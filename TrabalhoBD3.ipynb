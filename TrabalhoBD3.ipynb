{
  "cells": [
    {
      "cell_type": "markdown",
      "metadata": {
        "id": "DTruZS5TPEvK"
      },
      "source": [
        "#Trabalho Final de Bancos de Dados não Convencionais\n",
        "Por: Erik Heringer\n",
        "\n",
        "O trabalho consiste na limpeza e transformação das tabelas de 2022 que registram as viagens de taxis amarelos de Nova York para as análises definidas pelo professor."
      ]
    },
    {
      "cell_type": "code",
      "execution_count": null,
      "metadata": {
        "colab": {
          "base_uri": "https://localhost:8080/"
        },
        "id": "Oz_8sWI7PKEl",
        "outputId": "766da825-41c3-4770-fbb1-6dbc8343e349"
      },
      "outputs": [
        {
          "name": "stdout",
          "output_type": "stream",
          "text": [
            "-rw-r--r-- 1 root root 371M Apr  7  2023 spark-3.4.0-bin-hadoop3.tgz\n",
            "total 741M\n",
            "drwxr-xr-x  2 root root 4.0K Jul  2 10:32 ArquivosTrabalhoFinalBD3\n",
            "drwxr-xr-x  1 root root 4.0K Jun 28 13:24 sample_data\n",
            "drwxr-xr-x 13 1000 1000 4.0K Apr  7  2023 spark-3.4.0-bin-hadoop3\n",
            "-rw-r--r--  1 root root 371M Apr  7  2023 spark-3.4.0-bin-hadoop3.tgz\n",
            "-rw-r--r--  1 root root 371M Apr  7  2023 spark-3.4.0-bin-hadoop3.tgz.1\n"
          ]
        }
      ],
      "source": [
        "#Instalando o Java\n",
        "!apt-get install openjdk-8-jdk-headless -qq > /dev/null\n",
        "\n",
        "#Instalando o Spark\n",
        "!wget -q https://archive.apache.org/dist/spark/spark-3.4.0/spark-3.4.0-bin-hadoop3.tgz\n",
        "\n",
        "#Verificando se o arquivo foi baixado\n",
        "!ls -lh spark-3.4.0-bin-hadoop3.tgz\n",
        "\n",
        "#Descompactando o arquivo\n",
        "!tar xf spark-3.4.0-bin-hadoop3.tgz\n",
        "\n",
        "#Verificando o diretório\n",
        "!ls -lh\n",
        "\n",
        "#Instalando o findspark\n",
        "!pip install -q findspark"
      ]
    },
    {
      "cell_type": "code",
      "execution_count": null,
      "metadata": {
        "id": "RkpG11RQPbRf"
      },
      "outputs": [],
      "source": [
        "#Configurar as variáveis de ambiente\n",
        "\n",
        "#Importando a biblioteca os\n",
        "import os\n",
        "\n",
        "#Definindo a variável de ambiente do Java\n",
        "os.environ[\"JAVA_HOME\"] = \"/usr/lib/jvm/java-8-openjdk-amd64\"\n",
        "\n",
        "#Definindo a variável de ambiente do Spark\n",
        "os.environ[\"SPARK_HOME\"] = \"/content/spark-3.4.0-bin-hadoop3\"\n",
        "\n",
        "#Importando a findspark\n",
        "import findspark\n",
        "\n",
        "#Iniciando o findspark\n",
        "findspark.init('spark-3.4.0-bin-hadoop3')"
      ]
    },
    {
      "cell_type": "markdown",
      "metadata": {
        "id": "kpd6wWYai9O3"
      },
      "source": [
        "**Note que o consumo de memória da sessão está configurado para 15g, talvez seja necessario mudar dependendo de sua máquina!!!**"
      ]
    },
    {
      "cell_type": "code",
      "execution_count": null,
      "metadata": {
        "id": "gpJqWggpPKXO"
      },
      "outputs": [],
      "source": [
        "# iniciar uma sessão local\n",
        "from pyspark.sql import SparkSession\n",
        "import time\n",
        "sc = SparkSession.builder.master('local[*]').config('spark.ui.port', '4050').config(\"spark.driver.memory\", \"15g\").config(\"spark.executor.memory\", \"15g\").getOrCreate()"
      ]
    },
    {
      "cell_type": "code",
      "execution_count": null,
      "metadata": {
        "colab": {
          "base_uri": "https://localhost:8080/",
          "height": 219
        },
        "id": "vSSqv5PxwLGh",
        "outputId": "0108fa3d-d052-4a44-d5a2-81172b0077ad"
      },
      "outputs": [
        {
          "data": {
            "text/html": [
              "\n",
              "            <div>\n",
              "                <p><b>SparkSession - in-memory</b></p>\n",
              "                \n",
              "        <div>\n",
              "            <p><b>SparkContext</b></p>\n",
              "\n",
              "            <p><a href=\"http://6f4bcfe4f1b1:4050\">Spark UI</a></p>\n",
              "\n",
              "            <dl>\n",
              "              <dt>Version</dt>\n",
              "                <dd><code>v3.4.0</code></dd>\n",
              "              <dt>Master</dt>\n",
              "                <dd><code>local[*]</code></dd>\n",
              "              <dt>AppName</dt>\n",
              "                <dd><code>pyspark-shell</code></dd>\n",
              "            </dl>\n",
              "        </div>\n",
              "        \n",
              "            </div>\n",
              "        "
            ],
            "text/plain": [
              "<pyspark.sql.session.SparkSession at 0x79763823c9d0>"
            ]
          },
          "execution_count": 32,
          "metadata": {},
          "output_type": "execute_result"
        }
      ],
      "source": [
        "#Executando apenas a variável sc em uma célula veremos algumas informações sobre a sessão Spark criada.\n",
        "sc"
      ]
    },
    {
      "cell_type": "markdown",
      "metadata": {
        "id": "700tLAH3KYs-"
      },
      "source": [
        "Importado as tabelas dos taxis amarelos do ano de 2022, de uma pasta pública do drive."
      ]
    },
    {
      "cell_type": "code",
      "execution_count": null,
      "metadata": {
        "colab": {
          "base_uri": "https://localhost:8080/"
        },
        "id": "1VPWoZZHONuv",
        "outputId": "133a0da9-014e-4a12-a756-86e11b8aabdc"
      },
      "outputs": [
        {
          "name": "stdout",
          "output_type": "stream",
          "text": [
            "Requirement already satisfied: gdown in /usr/local/lib/python3.10/dist-packages (5.1.0)\n",
            "Requirement already satisfied: beautifulsoup4 in /usr/local/lib/python3.10/dist-packages (from gdown) (4.12.3)\n",
            "Requirement already satisfied: filelock in /usr/local/lib/python3.10/dist-packages (from gdown) (3.15.4)\n",
            "Requirement already satisfied: requests[socks] in /usr/local/lib/python3.10/dist-packages (from gdown) (2.31.0)\n",
            "Requirement already satisfied: tqdm in /usr/local/lib/python3.10/dist-packages (from gdown) (4.66.4)\n",
            "Requirement already satisfied: soupsieve>1.2 in /usr/local/lib/python3.10/dist-packages (from beautifulsoup4->gdown) (2.5)\n",
            "Requirement already satisfied: charset-normalizer<4,>=2 in /usr/local/lib/python3.10/dist-packages (from requests[socks]->gdown) (3.3.2)\n",
            "Requirement already satisfied: idna<4,>=2.5 in /usr/local/lib/python3.10/dist-packages (from requests[socks]->gdown) (3.7)\n",
            "Requirement already satisfied: urllib3<3,>=1.21.1 in /usr/local/lib/python3.10/dist-packages (from requests[socks]->gdown) (2.0.7)\n",
            "Requirement already satisfied: certifi>=2017.4.17 in /usr/local/lib/python3.10/dist-packages (from requests[socks]->gdown) (2024.6.2)\n",
            "Requirement already satisfied: PySocks!=1.5.7,>=1.5.6 in /usr/local/lib/python3.10/dist-packages (from requests[socks]->gdown) (1.7.1)\n"
          ]
        },
        {
          "name": "stderr",
          "output_type": "stream",
          "text": [
            "Retrieving folder contents\n"
          ]
        },
        {
          "name": "stdout",
          "output_type": "stream",
          "text": [
            "Processing file 1AhaXjPgd17ZX0jz6wgfKwAXwqYnkcmtI yellow_tripdata_2022-01.parquet\n",
            "Processing file 1OgBGyZGKHeCnbh9H0HAHjJGkbSjnbXzQ yellow_tripdata_2022-02.parquet\n",
            "Processing file 1WfA1MtqzpYPHs08xEcLRE2l7C36gPT-P yellow_tripdata_2022-03.parquet\n",
            "Processing file 1rlUT29cbHRby1QLrghfNkOQ5MOVaNCNP yellow_tripdata_2022-04.parquet\n",
            "Processing file 1K_PCJJ04KxIaEhZ_SyhYqPksbNWWf6de yellow_tripdata_2022-05.parquet\n",
            "Processing file 1KQQ2wPFJxWKXCVGlFdm-r0mz5lM9bEsd yellow_tripdata_2022-06.parquet\n",
            "Processing file 1xyhNvitlM3f2MRK9PrGVSoGk2NHgSy5f yellow_tripdata_2022-07.parquet\n",
            "Processing file 1CCGxrXlxqHhwGk0-yk1-R-e0dXEWCbYC yellow_tripdata_2022-08.parquet\n",
            "Processing file 1nWulV25Mf3HxSrC6X8nl6NylvJXGoMQI yellow_tripdata_2022-09.parquet\n",
            "Processing file 1N5zAjIT8TGxbpY0oMOHvL6Z5VkRL64Bq yellow_tripdata_2022-10.parquet\n",
            "Processing file 1XCQJu-iQDo70y8S4tWeSDASe4dqHqlwS yellow_tripdata_2022-11.parquet\n",
            "Processing file 16ku7apKQKGhZTLLSKodkzfAloPnjLBSt yellow_tripdata_2022-12.parquet\n"
          ]
        },
        {
          "name": "stderr",
          "output_type": "stream",
          "text": [
            "Retrieving folder contents completed\n",
            "Building directory structure\n",
            "Building directory structure completed\n",
            "Downloading...\n",
            "From: https://drive.google.com/uc?id=1AhaXjPgd17ZX0jz6wgfKwAXwqYnkcmtI\n",
            "To: /content/ArquivosTrabalhoFinalBD3/yellow_tripdata_2022-01.parquet\n",
            "100%|██████████| 38.1M/38.1M [00:01<00:00, 26.2MB/s]\n",
            "Downloading...\n",
            "From: https://drive.google.com/uc?id=1OgBGyZGKHeCnbh9H0HAHjJGkbSjnbXzQ\n",
            "To: /content/ArquivosTrabalhoFinalBD3/yellow_tripdata_2022-02.parquet\n",
            "100%|██████████| 45.6M/45.6M [00:01<00:00, 31.0MB/s]\n",
            "Downloading...\n",
            "From: https://drive.google.com/uc?id=1WfA1MtqzpYPHs08xEcLRE2l7C36gPT-P\n",
            "To: /content/ArquivosTrabalhoFinalBD3/yellow_tripdata_2022-03.parquet\n",
            "100%|██████████| 55.7M/55.7M [00:02<00:00, 23.1MB/s]\n",
            "Downloading...\n",
            "From: https://drive.google.com/uc?id=1rlUT29cbHRby1QLrghfNkOQ5MOVaNCNP\n",
            "To: /content/ArquivosTrabalhoFinalBD3/yellow_tripdata_2022-04.parquet\n",
            "100%|██████████| 55.2M/55.2M [00:01<00:00, 29.3MB/s]\n",
            "Downloading...\n",
            "From: https://drive.google.com/uc?id=1K_PCJJ04KxIaEhZ_SyhYqPksbNWWf6de\n",
            "To: /content/ArquivosTrabalhoFinalBD3/yellow_tripdata_2022-05.parquet\n",
            "100%|██████████| 55.6M/55.6M [00:00<00:00, 149MB/s]\n",
            "Downloading...\n",
            "From: https://drive.google.com/uc?id=1KQQ2wPFJxWKXCVGlFdm-r0mz5lM9bEsd\n",
            "To: /content/ArquivosTrabalhoFinalBD3/yellow_tripdata_2022-06.parquet\n",
            "100%|██████████| 55.4M/55.4M [00:02<00:00, 24.6MB/s]\n",
            "Downloading...\n",
            "From: https://drive.google.com/uc?id=1xyhNvitlM3f2MRK9PrGVSoGk2NHgSy5f\n",
            "To: /content/ArquivosTrabalhoFinalBD3/yellow_tripdata_2022-07.parquet\n",
            "100%|██████████| 49.4M/49.4M [00:02<00:00, 24.3MB/s]\n",
            "Downloading...\n",
            "From: https://drive.google.com/uc?id=1CCGxrXlxqHhwGk0-yk1-R-e0dXEWCbYC\n",
            "To: /content/ArquivosTrabalhoFinalBD3/yellow_tripdata_2022-08.parquet\n",
            "100%|██████████| 49.7M/49.7M [00:02<00:00, 18.9MB/s]\n",
            "Downloading...\n",
            "From: https://drive.google.com/uc?id=1nWulV25Mf3HxSrC6X8nl6NylvJXGoMQI\n",
            "To: /content/ArquivosTrabalhoFinalBD3/yellow_tripdata_2022-09.parquet\n",
            "100%|██████████| 49.6M/49.6M [00:00<00:00, 144MB/s]\n",
            "Downloading...\n",
            "From: https://drive.google.com/uc?id=1N5zAjIT8TGxbpY0oMOHvL6Z5VkRL64Bq\n",
            "To: /content/ArquivosTrabalhoFinalBD3/yellow_tripdata_2022-10.parquet\n",
            "100%|██████████| 57.1M/57.1M [00:00<00:00, 203MB/s]\n",
            "Downloading...\n",
            "From: https://drive.google.com/uc?id=1XCQJu-iQDo70y8S4tWeSDASe4dqHqlwS\n",
            "To: /content/ArquivosTrabalhoFinalBD3/yellow_tripdata_2022-11.parquet\n",
            "100%|██████████| 50.1M/50.1M [00:02<00:00, 20.9MB/s]\n",
            "Downloading...\n",
            "From: https://drive.google.com/uc?id=16ku7apKQKGhZTLLSKodkzfAloPnjLBSt\n",
            "To: /content/ArquivosTrabalhoFinalBD3/yellow_tripdata_2022-12.parquet\n",
            "100%|██████████| 53.6M/53.6M [00:02<00:00, 26.4MB/s]\n",
            "Download completed\n"
          ]
        }
      ],
      "source": [
        "!pip install gdown\n",
        "import os\n",
        "import gdown\n",
        "\n",
        "gdown.download_folder(f\"https://drive.google.com/drive/folders/11Yx5fUwO_8WWGJO5_vjvhsGo6425Yqxb?usp=sharing\", quiet=False, use_cookies=False)\n",
        "# Descompactar arquivos zip, se necessário\n",
        "for arquivo in os.listdir():\n",
        "    if arquivo.endswith(\".zip\"):\n",
        "        !unzip {arquivo}"
      ]
    },
    {
      "cell_type": "markdown",
      "metadata": {
        "id": "fMwGRvnk5Asr"
      },
      "source": [
        "!pip install gdown\n",
        "import os\n",
        "import gdown\n",
        "\n",
        "gdown.download_folder(f\"https://drive.google.com/drive/folders/11Yx5fUwO_8WWGJO5_vjvhsGo6425Yqxb\", quiet=False, use_cookies=False)"
      ]
    },
    {
      "cell_type": "code",
      "execution_count": null,
      "metadata": {
        "colab": {
          "base_uri": "https://localhost:8080/"
        },
        "id": "fRxY12rO7VVA",
        "outputId": "9592d698-186f-4de7-8f71-c24670ce334b"
      },
      "outputs": [
        {
          "name": "stdout",
          "output_type": "stream",
          "text": [
            "yellow_tripdata_2022-01.parquet  yellow_tripdata_2022-05.parquet  yellow_tripdata_2022-09.parquet\n",
            "yellow_tripdata_2022-02.parquet  yellow_tripdata_2022-06.parquet  yellow_tripdata_2022-10.parquet\n",
            "yellow_tripdata_2022-03.parquet  yellow_tripdata_2022-07.parquet  yellow_tripdata_2022-11.parquet\n",
            "yellow_tripdata_2022-04.parquet  yellow_tripdata_2022-08.parquet  yellow_tripdata_2022-12.parquet\n"
          ]
        }
      ],
      "source": [
        "#Verificando a pasta\n",
        "!ls /content/ArquivosTrabalhoFinalBD3"
      ]
    },
    {
      "cell_type": "code",
      "execution_count": null,
      "metadata": {
        "id": "sg-i8LB--G17"
      },
      "outputs": [],
      "source": [
        "pasta_taxis = \"/content/ArquivosTrabalhoFinalBD3/*.parquet\"\n",
        "#criação do dataframe contendo a tabela fato, unindo todas as tabelas em uma única.\n",
        "dataFrame = sc.read.parquet(pasta_taxis, header=True, inferSchema=True)"
      ]
    },
    {
      "cell_type": "code",
      "execution_count": null,
      "metadata": {
        "colab": {
          "base_uri": "https://localhost:8080/"
        },
        "id": "DIfvQC2M_f7O",
        "outputId": "8647b7ef-2e40-4aa6-f938-2188d5fc6206"
      },
      "outputs": [
        {
          "name": "stdout",
          "output_type": "stream",
          "text": [
            "root\n",
            " |-- VendorID: long (nullable = true)\n",
            " |-- tpep_pickup_datetime: timestamp_ntz (nullable = true)\n",
            " |-- tpep_dropoff_datetime: timestamp_ntz (nullable = true)\n",
            " |-- passenger_count: double (nullable = true)\n",
            " |-- trip_distance: double (nullable = true)\n",
            " |-- RatecodeID: double (nullable = true)\n",
            " |-- store_and_fwd_flag: string (nullable = true)\n",
            " |-- PULocationID: long (nullable = true)\n",
            " |-- DOLocationID: long (nullable = true)\n",
            " |-- payment_type: long (nullable = true)\n",
            " |-- fare_amount: double (nullable = true)\n",
            " |-- extra: double (nullable = true)\n",
            " |-- mta_tax: double (nullable = true)\n",
            " |-- tip_amount: double (nullable = true)\n",
            " |-- tolls_amount: double (nullable = true)\n",
            " |-- improvement_surcharge: double (nullable = true)\n",
            " |-- total_amount: double (nullable = true)\n",
            " |-- congestion_surcharge: double (nullable = true)\n",
            " |-- airport_fee: double (nullable = true)\n",
            "\n"
          ]
        }
      ],
      "source": [
        "#Verificar como está o Schema\n",
        "dataFrame.printSchema()"
      ]
    },
    {
      "cell_type": "code",
      "execution_count": null,
      "metadata": {
        "id": "HZIyfl9SNmCx"
      },
      "outputs": [],
      "source": [
        "from pyspark.sql.functions import col\n",
        "dataFrame = dataFrame.withColumn(\"RatecodeID\", col(\"RatecodeID\").cast(\"int\")) #passando ratecodeID para int\n",
        "dataFrame = dataFrame.withColumn(\"passenger_count\", col(\"passenger_count\").cast(\"int\")) #passando quantidade de passageiros para inteiro"
      ]
    },
    {
      "cell_type": "code",
      "execution_count": null,
      "metadata": {
        "colab": {
          "base_uri": "https://localhost:8080/"
        },
        "id": "vbONvVeoWLSm",
        "outputId": "b3973b11-be16-483b-8e84-2aacd305585d"
      },
      "outputs": [
        {
          "name": "stdout",
          "output_type": "stream",
          "text": [
            "VendorID 0\n",
            "tpep_pickup_datetime 0\n",
            "tpep_dropoff_datetime 0\n",
            "passenger_count 1368303\n",
            "trip_distance 0\n",
            "RatecodeID 1368303\n",
            "store_and_fwd_flag 1368303\n",
            "PULocationID 0\n",
            "DOLocationID 0\n",
            "payment_type 0\n",
            "fare_amount 0\n",
            "extra 0\n",
            "mta_tax 0\n",
            "tip_amount 0\n",
            "tolls_amount 0\n",
            "improvement_surcharge 0\n",
            "total_amount 0\n",
            "congestion_surcharge 1368303\n",
            "airport_fee 1368303\n"
          ]
        }
      ],
      "source": [
        "#verificando valores nulos\n",
        "for coluna in dataFrame.columns:\n",
        "  print(coluna, dataFrame.filter(dataFrame[coluna].isNull()).count())"
      ]
    },
    {
      "cell_type": "code",
      "execution_count": null,
      "metadata": {
        "colab": {
          "base_uri": "https://localhost:8080/"
        },
        "id": "oNdjssuyyMGJ",
        "outputId": "8a02531d-8126-496b-be55-c96b688f1918"
      },
      "outputs": [
        {
          "name": "stdout",
          "output_type": "stream",
          "text": [
            "VendorID 0\n",
            "tpep_pickup_datetime 0\n",
            "tpep_dropoff_datetime 0\n",
            "passenger_count 0\n",
            "trip_distance 0\n",
            "RatecodeID 0\n",
            "store_and_fwd_flag 0\n",
            "PULocationID 0\n",
            "DOLocationID 0\n",
            "payment_type 0\n",
            "fare_amount 0\n",
            "extra 0\n",
            "mta_tax 0\n",
            "tip_amount 0\n",
            "tolls_amount 0\n",
            "improvement_surcharge 0\n",
            "total_amount 0\n",
            "congestion_surcharge 0\n",
            "airport_fee 0\n"
          ]
        }
      ],
      "source": [
        "dataFrame = dataFrame.na.fill(0) #Substitui valores nulos por 0\n",
        "dataFrame = dataFrame.na.fill(\"0\", subset=[\"store_and_fwd_flag\"]) #como essa coluna é string, colocamos o valor como \"0\". Optamos por não colocar como Y ou N pois não é uma informação que poderíamos obter com as informações da tabela.\n",
        "\n",
        "for coluna in dataFrame.columns: #verificando novamente os valores nulos\n",
        "  print(coluna, dataFrame.filter(dataFrame[coluna].isNull()).count())"
      ]
    },
    {
      "cell_type": "code",
      "execution_count": null,
      "metadata": {
        "colab": {
          "base_uri": "https://localhost:8080/"
        },
        "id": "7m4LedDZA1RI",
        "outputId": "1873af36-42c8-4b40-d19f-5c45b4ba9a41"
      },
      "outputs": [
        {
          "name": "stdout",
          "output_type": "stream",
          "text": [
            "39656098\n",
            "+--------+--------------------+---------------------+---------------+-------------+----------+------------------+------------+------------+------------+-----------+-----+-------+----------+------------+---------------------+------------+--------------------+-----------+\n",
            "|VendorID|tpep_pickup_datetime|tpep_dropoff_datetime|passenger_count|trip_distance|RatecodeID|store_and_fwd_flag|PULocationID|DOLocationID|payment_type|fare_amount|extra|mta_tax|tip_amount|tolls_amount|improvement_surcharge|total_amount|congestion_surcharge|airport_fee|\n",
            "+--------+--------------------+---------------------+---------------+-------------+----------+------------------+------------+------------+------------+-----------+-----+-------+----------+------------+---------------------+------------+--------------------+-----------+\n",
            "|       1| 2022-03-01 00:13:08|  2022-03-01 00:24:35|              1|          2.4|         1|                 N|          90|         209|           2|       10.0|  3.0|    0.5|       0.0|         0.0|                  0.3|        13.8|                 2.5|        0.0|\n",
            "|       1| 2022-03-01 00:47:52|  2022-03-01 01:00:08|              1|          2.2|         1|                 N|         148|         234|           2|       10.5|  3.0|    0.5|       0.0|         0.0|                  0.3|        14.3|                 2.5|        0.0|\n",
            "|       2| 2022-03-01 00:02:46|  2022-03-01 00:46:43|              1|        19.78|         2|                 N|         132|         249|           1|       52.0|  0.0|    0.5|     11.06|         0.0|                  0.3|       67.61|                 2.5|       1.25|\n",
            "|       2| 2022-03-01 00:52:43|  2022-03-01 01:03:40|              2|         2.94|         1|                 N|         211|          66|           1|       11.0|  0.5|    0.5|      4.44|         0.0|                  0.3|       19.24|                 2.5|        0.0|\n",
            "|       2| 2022-03-01 00:15:35|  2022-03-01 00:34:13|              1|         8.57|         1|                 N|         138|         197|           1|       25.0|  0.5|    0.5|      5.51|         0.0|                  0.3|       33.06|                 0.0|       1.25|\n",
            "|       1| 2022-03-01 00:11:57|  2022-03-01 00:53:05|              2|         14.0|         1|                 N|         132|          33|           1|       43.5| 1.75|    0.5|       9.2|         0.0|                  0.3|       55.25|                 0.0|       1.25|\n",
            "|       2| 2022-03-01 00:05:11|  2022-03-01 00:08:22|              1|         0.61|         1|                 N|         166|         151|           1|        4.5|  0.5|    0.5|       1.0|         0.0|                  0.3|         6.8|                 0.0|        0.0|\n",
            "|       2| 2022-03-01 00:30:56|  2022-03-01 00:46:21|              1|         2.83|         1|                 N|          74|         238|           1|       13.0|  0.5|    0.5|       3.7|         0.0|                  0.3|        18.0|                 0.0|        0.0|\n",
            "|       2| 2022-03-01 00:30:28|  2022-03-01 00:30:36|              1|          0.1|         1|                 N|         145|         145|           3|       -2.5| -0.5|   -0.5|       0.0|         0.0|                 -0.3|        -3.8|                 0.0|        0.0|\n",
            "|       2| 2022-03-01 00:30:28|  2022-03-01 00:30:36|              1|          0.1|         1|                 N|         145|         145|           2|        2.5|  0.5|    0.5|       0.0|         0.0|                  0.3|         3.8|                 0.0|        0.0|\n",
            "|       2| 2022-03-01 00:34:25|  2022-03-01 00:39:43|              1|          1.4|         2|                 N|         170|          90|           1|       52.0|  0.0|    0.5|       8.0|        6.55|                  0.3|       69.85|                 2.5|        0.0|\n",
            "|       2| 2022-03-01 00:35:11|  2022-03-01 01:20:33|              1|        14.48|         1|                 N|         132|          97|           1|       45.5|  0.5|    0.5|      9.36|         0.0|                  0.3|       57.41|                 0.0|       1.25|\n",
            "|       2| 2022-03-01 00:59:02|  2022-03-01 01:13:38|              1|         7.98|         1|                 N|         138|         255|           1|       23.5|  0.5|    0.5|       4.0|         0.0|                  0.3|       30.05|                 0.0|       1.25|\n",
            "|       2| 2022-03-01 00:16:00|  2022-03-01 00:36:46|              1|         3.48|         1|                 N|         179|         226|           2|       16.0|  0.5|    0.5|       0.0|         0.0|                  0.3|        17.3|                 0.0|        0.0|\n",
            "|       2| 2022-03-01 00:57:18|  2022-03-01 01:38:31|              1|         8.57|         1|                 N|         226|          70|           2|       34.0|  0.5|    0.5|       0.0|         0.0|                  0.3|        35.3|                 0.0|        0.0|\n",
            "|       2| 2022-03-01 00:01:50|  2022-03-01 00:17:53|              1|         7.56|         1|                 N|         138|         256|           1|       23.5|  0.5|    0.5|       6.2|         0.0|                  0.3|       32.25|                 0.0|       1.25|\n",
            "|       2| 2022-03-01 01:03:05|  2022-03-01 01:06:05|              5|         0.62|         1|                 N|          80|         255|           2|        4.5|  0.5|    0.5|       0.0|         0.0|                  0.3|         5.8|                 0.0|        0.0|\n",
            "|       2| 2022-03-01 00:28:14|  2022-03-01 00:43:11|              2|         4.33|         1|                 N|         211|         142|           1|       15.0|  0.5|    0.5|      3.76|         0.0|                  0.3|       22.56|                 2.5|        0.0|\n",
            "|       2| 2022-03-01 00:35:49|  2022-03-01 01:14:54|              1|        20.76|         2|                 N|         132|         238|           1|       52.0|  0.0|    0.5|     12.12|        6.55|                  0.3|       72.72|                 0.0|       1.25|\n",
            "|       2| 2022-03-01 00:22:31|  2022-03-01 00:30:49|              2|         1.45|         1|                 N|         148|         231|           1|        7.5|  0.5|    0.5|      2.26|         0.0|                  0.3|       13.56|                 2.5|        0.0|\n",
            "|       1| 2022-03-01 00:01:51|  2022-03-01 00:17:24|              1|          5.5|         1|                 N|         162|         255|           1|       17.5|  3.0|    0.5|       2.0|         0.0|                  0.3|        23.3|                 2.5|        0.0|\n",
            "|       1| 2022-03-01 00:32:22|  2022-03-01 00:35:11|              3|          1.3|         1|                 N|         137|         141|           1|        5.5|  3.0|    0.5|       2.5|         0.0|                  0.3|        11.8|                 2.5|        0.0|\n",
            "|       1| 2022-03-01 00:13:10|  2022-03-01 00:35:56|              0|         12.8|         1|                 N|         132|          70|           1|       35.5| 1.75|    0.5|       9.5|         0.0|                  0.3|       47.55|                 0.0|       1.25|\n",
            "|       2| 2022-03-01 00:10:51|  2022-03-01 00:22:02|              2|         2.57|         1|                 N|          68|         170|           1|       10.5|  0.5|    0.5|       2.0|         0.0|                  0.3|        16.3|                 2.5|        0.0|\n",
            "|       2| 2022-03-01 00:41:52|  2022-03-01 00:54:38|              2|         3.23|         1|                 N|         211|          48|           1|       12.0|  0.5|    0.5|      3.16|         0.0|                  0.3|       18.96|                 2.5|        0.0|\n",
            "|       1| 2022-03-01 00:12:27|  2022-03-01 00:28:31|              1|          4.1|         1|                 N|         239|         137|           2|       13.5|  3.0|    0.5|       0.0|         0.0|                  0.3|        17.3|                 2.5|        0.0|\n",
            "|       1| 2022-03-01 00:54:32|  2022-03-01 01:33:39|              1|          8.3|         1|                 N|         141|         146|           2|       29.0|  3.0|    0.5|       0.0|         0.0|                  0.3|        32.8|                 2.5|        0.0|\n",
            "|       1| 2022-03-01 00:15:10|  2022-03-01 00:23:56|              1|          1.8|         1|                 N|          25|          17|           1|        8.0|  0.5|    0.5|      1.85|         0.0|                  0.3|       11.15|                 0.0|        0.0|\n",
            "|       2| 2022-03-01 00:35:59|  2022-03-01 00:46:02|              1|         2.82|         1|                 N|         114|         161|           1|       10.5|  0.5|    0.5|      2.86|         0.0|                  0.3|       17.16|                 2.5|        0.0|\n",
            "|       2| 2022-03-01 00:52:58|  2022-03-01 01:08:04|              1|         2.06|         1|                 N|         164|         114|           1|       11.0|  0.5|    0.5|      2.96|         0.0|                  0.3|       17.76|                 2.5|        0.0|\n",
            "|       2| 2022-03-01 00:26:14|  2022-03-01 00:43:20|              1|         3.24|         1|                 N|         230|          24|           2|       14.5|  0.5|    0.5|       0.0|         0.0|                  0.3|        18.3|                 2.5|        0.0|\n",
            "|       2| 2022-03-01 00:45:59|  2022-03-01 00:55:47|              1|         2.79|         1|                 N|         114|         163|           4|      -10.5| -0.5|   -0.5|       0.0|         0.0|                 -0.3|       -14.3|                -2.5|        0.0|\n",
            "|       2| 2022-03-01 00:45:59|  2022-03-01 00:55:47|              1|         2.79|         1|                 N|         114|         230|           2|       10.5|  0.5|    0.5|       0.0|         0.0|                  0.3|        14.3|                 2.5|        0.0|\n",
            "|       2| 2022-03-01 00:15:55|  2022-03-01 00:27:49|              1|         2.26|         1|                 N|         107|         229|           1|       10.5|  0.5|    0.5|      2.14|         0.0|                  0.3|       16.44|                 2.5|        0.0|\n",
            "|       2| 2022-03-01 00:30:43|  2022-03-01 00:52:34|              4|         4.35|         1|                 N|         229|         209|           2|       17.0|  0.5|    0.5|       0.0|         0.0|                  0.3|        20.8|                 2.5|        0.0|\n",
            "|       2| 2022-03-01 00:14:51|  2022-03-01 00:21:58|              1|         1.34|         1|                 N|         113|          45|           1|        7.0|  0.5|    0.5|       3.0|         0.0|                  0.3|        13.8|                 2.5|        0.0|\n",
            "|       2| 2022-03-01 00:28:17|  2022-03-01 00:45:50|              1|         5.88|         1|                 N|          79|         112|           1|       18.5|  0.5|    0.5|       2.0|         0.0|                  0.3|        24.3|                 2.5|        0.0|\n",
            "|       1| 2022-03-01 00:23:51|  2022-03-01 00:38:51|              2|         12.2|         1|                 N|         138|          40|           1|       33.5| 1.75|    0.5|       5.0|         0.0|                  0.3|       41.05|                 0.0|       1.25|\n",
            "|       2| 2022-03-01 00:20:27|  2022-03-01 00:24:13|              1|         1.08|         1|                 N|         140|         236|           1|        5.5|  0.5|    0.5|      1.86|         0.0|                  0.3|       11.16|                 2.5|        0.0|\n",
            "|       2| 2022-03-01 00:50:09|  2022-03-01 00:58:48|              1|         1.93|         1|                 N|         237|         143|           2|        8.5|  0.5|    0.5|       0.0|         0.0|                  0.3|        12.3|                 2.5|        0.0|\n",
            "|       1| 2022-03-01 00:37:51|  2022-03-01 01:11:38|              1|         18.8|         2|                 N|         132|         234|           1|       52.0| 3.75|    0.5|       8.0|        6.55|                  0.3|        71.1|                 2.5|       1.25|\n",
            "|       1| 2022-03-01 00:05:28|  2022-03-01 00:30:30|              1|         17.3|         2|                 N|         132|         162|           1|       52.0| 3.75|    0.5|      12.6|        6.55|                  0.3|        75.7|                 2.5|       1.25|\n",
            "|       1| 2022-03-01 00:26:24|  2022-03-01 00:39:52|              1|          3.9|         1|                 N|         142|         152|           2|       13.5|  3.0|    0.5|       0.0|         0.0|                  0.3|        17.3|                 2.5|        0.0|\n",
            "|       1| 2022-03-01 00:11:56|  2022-03-01 00:17:46|              0|          1.2|         1|                 N|         138|         129|           2|        6.0| 1.25|    0.5|       0.0|         0.0|                  0.3|        8.05|                 0.0|       1.25|\n",
            "|       2| 2022-03-01 00:08:12|  2022-03-01 00:37:54|              2|        12.64|         1|                 N|         132|          49|           1|       37.0|  0.5|    0.5|      9.89|         0.0|                  0.3|       49.44|                 0.0|       1.25|\n",
            "|       2| 2022-03-01 00:17:49|  2022-03-01 00:21:19|              1|         1.39|         1|                 N|         233|         224|           1|        6.0|  0.5|    0.5|      1.96|         0.0|                  0.3|       11.76|                 2.5|        0.0|\n",
            "|       2| 2022-03-01 00:28:56|  2022-03-01 00:36:06|              1|         2.69|         1|                 N|         233|         262|           1|        9.5|  0.5|    0.5|      3.33|         0.0|                  0.3|       16.63|                 2.5|        0.0|\n",
            "|       2| 2022-03-01 00:47:36|  2022-03-01 01:04:55|              1|         5.09|         1|                 N|         141|         223|           4|      -17.5| -0.5|   -0.5|       0.0|         0.0|                 -0.3|       -21.3|                -2.5|        0.0|\n",
            "|       2| 2022-03-01 00:47:36|  2022-03-01 01:04:55|              1|         5.09|         1|                 N|         141|         223|           2|       17.5|  0.5|    0.5|       0.0|         0.0|                  0.3|        21.3|                 2.5|        0.0|\n",
            "|       2| 2022-03-01 00:43:01|  2022-03-01 01:09:40|              2|        18.68|         2|                 N|         132|         148|           1|       52.0|  0.0|    0.5|     11.06|         0.0|                  0.3|       67.61|                 2.5|       1.25|\n",
            "+--------+--------------------+---------------------+---------------+-------------+----------+------------------+------------+------------+------------+-----------+-----+-------+----------+------------+---------------------+------------+--------------------+-----------+\n",
            "only showing top 50 rows\n",
            "\n"
          ]
        }
      ],
      "source": [
        "#visualizando a tabela\n",
        "print(dataFrame.count())\n",
        "dataFrame.show(50)"
      ]
    },
    {
      "cell_type": "markdown",
      "metadata": {
        "id": "eSz2XfWrUZBj"
      },
      "source": [
        "#ETL"
      ]
    },
    {
      "cell_type": "markdown",
      "metadata": {
        "id": "UcjdL9YdUyN5"
      },
      "source": [
        "### Corrigindo as colunas de datas:"
      ]
    },
    {
      "cell_type": "code",
      "execution_count": null,
      "metadata": {
        "colab": {
          "base_uri": "https://localhost:8080/"
        },
        "id": "ke_wj9kqb1z2",
        "outputId": "a5a49f11-c9d0-4c46-d439-c66e51bc1640"
      },
      "outputs": [
        {
          "name": "stdout",
          "output_type": "stream",
          "text": [
            "13613\n",
            "+--------+--------------------+---------------------+---------------+-------------+----------+------------------+------------+------------+------------+-----------+-----+-------+----------+------------+---------------------+------------+--------------------+-----------+\n",
            "|VendorID|tpep_pickup_datetime|tpep_dropoff_datetime|passenger_count|trip_distance|RatecodeID|store_and_fwd_flag|PULocationID|DOLocationID|payment_type|fare_amount|extra|mta_tax|tip_amount|tolls_amount|improvement_surcharge|total_amount|congestion_surcharge|airport_fee|\n",
            "+--------+--------------------+---------------------+---------------+-------------+----------+------------------+------------+------------+------------+-----------+-----+-------+----------+------------+---------------------+------------+--------------------+-----------+\n",
            "|       1| 2022-03-10 04:10:13|  2022-03-10 04:10:12|              1|          0.0|        99|                 N|         264|         265|           1|       49.2|  0.0|    0.5|       0.0|         0.0|                  0.3|        50.0|                 0.0|        0.0|\n",
            "|       1| 2022-03-10 15:49:18|  2022-03-10 15:49:17|              1|          0.0|        99|                 N|         264|         132|           1|       31.2|  0.0|    0.5|       0.0|         0.0|                  0.3|        32.0|                 0.0|        0.0|\n",
            "|       1| 2022-03-18 07:53:14|  2022-01-27 11:53:18|              1|          3.0|         1|                 N|         236|         100|           1|       22.0|  2.5|    0.5|       6.3|         0.0|                  0.3|        31.6|                 2.5|        0.0|\n",
            "|       6| 2022-03-01 01:03:37|  2022-03-01 01:03:17|              0|         4.98|         0|                 0|         265|          41|           0|      20.13|  0.0|    0.5|       0.0|         0.0|                  0.3|       20.93|                 0.0|        0.0|\n",
            "|       6| 2022-03-01 05:03:19|  2022-03-01 05:03:17|              0|        11.55|         0|                 0|         265|          47|           0|       52.2|  0.0|    0.5|       0.0|         0.0|                  0.3|        53.0|                 0.0|        0.0|\n",
            "|       6| 2022-03-01 07:03:56|  2022-03-01 07:03:53|              0|         6.04|         0|                 0|         265|         113|           0|      28.82|  0.0|    0.5|       0.0|         0.0|                  0.3|       29.62|                 0.0|        0.0|\n",
            "|       6| 2022-03-01 07:03:48|  2022-03-01 07:03:23|              0|         1.55|         0|                 0|         265|         252|           0|       20.2|  0.0|    0.5|       0.0|         0.0|                  0.3|        21.0|                 0.0|        0.0|\n",
            "|       6| 2022-03-01 07:03:02|  2022-03-01 07:03:01|              0|        12.99|         0|                 0|         265|         170|           0|       50.2|  0.0|    0.5|       0.0|         0.0|                  0.3|        51.0|                 0.0|        0.0|\n",
            "|       6| 2022-03-01 08:03:46|  2022-03-01 08:03:06|              0|         5.24|         0|                 0|         265|         170|           0|       22.2|  0.0|    0.5|       0.0|         0.0|                  0.3|        23.0|                 0.0|        0.0|\n",
            "|       6| 2022-03-01 09:03:44|  2022-03-01 09:03:21|              0|         3.41|         0|                 0|         265|         242|           0|       20.2|  0.0|    0.5|       0.0|         0.0|                  0.3|        21.0|                 0.0|        0.0|\n",
            "|       6| 2022-03-01 09:03:23|  2022-03-01 09:03:07|              0|         5.66|         0|                 0|         265|          87|           0|       38.2|  0.0|    0.5|       0.0|         0.0|                  0.3|        39.0|                 0.0|        0.0|\n",
            "|       6| 2022-03-01 09:03:57|  2022-03-01 09:03:53|              0|         7.92|         0|                 0|         265|         170|           0|      32.79|  0.0|    0.5|       0.0|         0.0|                  0.3|       33.59|                 0.0|        0.0|\n",
            "|       6| 2022-03-01 09:03:51|  2022-03-01 09:03:15|              0|         3.69|         0|                 0|         265|          18|           0|       24.2|  0.0|    0.5|       0.0|         0.0|                  0.3|        25.0|                 0.0|        0.0|\n",
            "|       6| 2022-03-01 09:03:28|  2022-03-01 09:03:02|              0|         6.06|         0|                 0|         265|          19|           0|       24.2|  0.0|    0.5|       0.0|         0.0|                  0.3|        25.0|                 0.0|        0.0|\n",
            "|       6| 2022-03-01 09:03:44|  2022-03-01 09:03:16|              0|         7.25|         0|                 0|         265|         165|           0|      36.92|  0.0|    0.5|       0.0|         0.0|                  0.3|       37.72|                 0.0|        0.0|\n",
            "|       6| 2022-03-01 10:03:40|  2022-03-01 10:03:07|              0|         1.59|         0|                 0|         265|         182|           0|       15.2|  0.0|    0.5|       0.0|         0.0|                  0.3|        16.0|                 0.0|        0.0|\n",
            "|       6| 2022-03-01 10:03:19|  2022-03-01 10:03:06|              0|         1.09|         0|                 0|         265|         107|           0|       15.2|  0.0|    0.5|       0.0|         0.0|                  0.3|        16.0|                 0.0|        0.0|\n",
            "|       6| 2022-03-01 10:03:59|  2022-03-01 10:03:36|              0|          6.0|         0|                 0|         265|         135|           0|       27.2|  0.0|    0.5|       0.0|         0.0|                  0.3|        28.0|                 0.0|        0.0|\n",
            "|       6| 2022-03-01 10:03:18|  2022-03-01 10:03:16|              0|         1.18|         0|                 0|         265|          14|           0|       24.2|  0.0|    0.5|       0.0|         0.0|                  0.3|        25.0|                 0.0|        0.0|\n",
            "|       6| 2022-03-01 10:03:34|  2022-03-01 10:03:18|              0|         0.68|         0|                 0|         265|          89|           0|       17.2|  0.0|    0.5|       0.0|         0.0|                  0.3|        18.0|                 0.0|        0.0|\n",
            "+--------+--------------------+---------------------+---------------+-------------+----------+------------------+------------+------------+------------+-----------+-----+-------+----------+------------+---------------------+------------+--------------------+-----------+\n",
            "only showing top 20 rows\n",
            "\n",
            "+--------+--------------------+---------------------+---------------+-------------+----------+------------------+------------+------------+------------+-----------+-----+-------+----------+------------+---------------------+------------+--------------------+-----------+\n",
            "|VendorID|tpep_pickup_datetime|tpep_dropoff_datetime|passenger_count|trip_distance|RatecodeID|store_and_fwd_flag|PULocationID|DOLocationID|payment_type|fare_amount|extra|mta_tax|tip_amount|tolls_amount|improvement_surcharge|total_amount|congestion_surcharge|airport_fee|\n",
            "+--------+--------------------+---------------------+---------------+-------------+----------+------------------+------------+------------+------------+-----------+-----+-------+----------+------------+---------------------+------------+--------------------+-----------+\n",
            "+--------+--------------------+---------------------+---------------+-------------+----------+------------------+------------+------------+------------+-----------+-----+-------+----------+------------+---------------------+------------+--------------------+-----------+\n",
            "\n"
          ]
        }
      ],
      "source": [
        "from pyspark.sql.functions import col,when\n",
        "dfDatasAoContrario = dataFrame.filter(col(\"tpep_pickup_datetime\") > col(\"tpep_dropoff_datetime\")) #verificando se há datas de pickup maiores que as datas de dropoff\n",
        "print(dfDatasAoContrario.count())\n",
        "dfDatasAoContrario.show(20) #resolvemos tratar esses dados considerando que tiveram sua entrada invertida, então, quando o pickup aparece maior, invertemos sua informação com a da coluna de dropoff, assim corrigindo-a\n",
        "\n",
        "dataFrame = dataFrame.withColumn( #criação de colunas temporárias para guardar o dado enquanto é feita a substituição\n",
        "    \"temp_pickup_datetime\",\n",
        "    when(col(\"tpep_pickup_datetime\") > col(\"tpep_dropoff_datetime\"), col(\"tpep_dropoff_datetime\")).otherwise(col(\"tpep_pickup_datetime\"))\n",
        ")\n",
        "\n",
        "dataFrame = dataFrame.withColumn(\n",
        "    \"temp_dropoff_datetime\",\n",
        "    when(col(\"tpep_pickup_datetime\") > col(\"tpep_dropoff_datetime\"), col(\"tpep_pickup_datetime\")).otherwise(col(\"tpep_dropoff_datetime\"))\n",
        ")\n",
        "\n",
        "# Atualização  dos valores das colunas originais\n",
        "dataFrame = dataFrame.withColumn(\"tpep_pickup_datetime\", col(\"temp_pickup_datetime\"))\n",
        "dataFrame = dataFrame.withColumn(\"tpep_dropoff_datetime\", col(\"temp_dropoff_datetime\"))\n",
        "\n",
        "# Remoção das colunas temporárias\n",
        "dataFrame = dataFrame.drop(\"temp_pickup_datetime\", \"temp_dropoff_datetime\")\n",
        "\n",
        "dataFrame.filter(col(\"tpep_pickup_datetime\") > col(\"tpep_dropoff_datetime\")).show(20) #verificando se ainda há alguma data errada\n",
        "\n",
        "dfPrincipal = dataFrame #Escolhemos atribuir um dataframe principal para os dados limpos."
      ]
    },
    {
      "cell_type": "code",
      "execution_count": null,
      "metadata": {
        "colab": {
          "base_uri": "https://localhost:8080/"
        },
        "id": "z7z0RVF-Z3Aw",
        "outputId": "5ede9a51-ee11-4c49-b990-1fcc98e88020"
      },
      "outputs": [
        {
          "name": "stdout",
          "output_type": "stream",
          "text": [
            "Linhas com datas em anos errados:  1146\n",
            "+--------+--------------------+---------------------+---------------+-------------+----------+------------------+------------+------------+------------+-----------+-----+-------+----------+------------+---------------------+------------+--------------------+-----------+\n",
            "|VendorID|tpep_pickup_datetime|tpep_dropoff_datetime|passenger_count|trip_distance|RatecodeID|store_and_fwd_flag|PULocationID|DOLocationID|payment_type|fare_amount|extra|mta_tax|tip_amount|tolls_amount|improvement_surcharge|total_amount|congestion_surcharge|airport_fee|\n",
            "+--------+--------------------+---------------------+---------------+-------------+----------+------------------+------------+------------+------------+-----------+-----+-------+----------+------------+---------------------+------------+--------------------+-----------+\n",
            "|       2| 2008-12-31 23:19:56|  2008-12-31 23:44:06|              1|         2.76|         1|                 N|         161|         142|           2|       12.5|  0.5|    0.5|       0.0|         0.0|                  0.3|        16.3|                 2.5|        0.0|\n",
            "|       2| 2009-01-01 00:54:41|  2009-01-01 01:26:54|              1|          3.5|         1|                 N|         186|         140|           2|       19.0|  0.5|    0.5|       0.0|         0.0|                  0.3|        22.8|                 2.5|        0.0|\n",
            "|       2| 2009-01-01 01:52:29|  2009-01-01 02:05:49|              1|         1.61|         1|                 N|         163|         143|           2|        8.5|  0.5|    0.5|       0.0|         0.0|                  0.3|        12.3|                 2.5|        0.0|\n",
            "|       2| 2009-01-01 00:00:11|  2009-01-01 00:14:10|              1|         1.81|         1|                 N|          70|         138|           2|        8.0|  0.0|    0.5|       0.0|         0.0|                  0.3|         8.8|                 0.0|        0.0|\n",
            "|       2| 2009-01-01 00:15:04|  2009-01-01 00:37:49|              1|        10.95|         1|                 N|         138|         161|           2|       31.5|  0.0|    0.5|       0.0|        6.55|                  0.3|        42.6|                 2.5|       1.25|\n",
            "|       2| 2009-01-01 00:40:47|  2009-01-01 01:08:46|              1|        11.24|         1|                 N|         161|         138|           2|       33.0|  0.0|    0.5|       0.0|        6.55|                  0.3|       42.85|                 2.5|        0.0|\n",
            "|       2| 2009-01-01 02:36:48|  2009-01-01 19:47:33|              1|         0.54|         1|                 N|         143|         143|           1|        4.5|  1.0|    0.5|       1.2|         0.0|                  0.3|        10.0|                 2.5|        0.0|\n",
            "|       2| 2008-12-31 23:02:37|  2009-01-01 01:00:14|              1|        16.67|         2|                 N|         132|         107|           1|       52.0|  0.0|    0.5|     12.62|        6.55|                  0.3|       75.72|                 2.5|       1.25|\n",
            "|       2| 2009-01-01 00:02:13|  2009-01-01 20:45:45|              1|         1.91|         1|                 N|         234|         144|           1|        9.0|  0.5|    0.5|       3.2|         0.0|                  0.3|        16.0|                 2.5|        0.0|\n",
            "|       2| 2008-12-31 23:02:41|  2009-01-01 01:23:52|              1|        17.52|         2|                 N|         132|         231|           1|       52.0|  0.0|    0.5|      8.48|         0.0|                  0.3|       65.03|                 2.5|       1.25|\n",
            "|       2| 2008-12-31 23:02:08|  2008-12-31 23:59:34|              1|        20.15|         1|                 N|         132|         181|           1|       55.5|  0.5|    0.5|     11.61|         0.0|                  0.3|       69.66|                 0.0|       1.25|\n",
            "|       2| 2009-01-01 00:06:34|  2009-01-01 17:51:22|              1|         2.56|         1|                 N|         142|         246|           2|       11.0|  1.0|    0.5|       0.0|         0.0|                  0.3|        15.3|                 2.5|        0.0|\n",
            "|       2| 2008-12-31 23:06:17|  2009-01-01 14:05:44|              1|         1.68|         1|                 N|         142|          43|           1|        9.0|  0.0|    0.5|       1.0|         0.0|                  0.3|        13.3|                 2.5|        0.0|\n",
            "|       2| 2008-12-31 23:03:21|  2009-01-01 21:26:00|              1|         2.07|         1|                 N|         239|         262|           1|        9.5|  0.5|    0.5|      1.75|         0.0|                  0.3|       15.05|                 2.5|        0.0|\n",
            "|       2| 2009-01-01 00:03:56|  2009-01-01 19:12:00|              1|         6.65|         1|                 N|         138|          42|           1|       21.5|  1.0|    0.5|      0.03|        6.55|                  0.3|       31.13|                 0.0|       1.25|\n",
            "|       2| 2003-01-01 00:06:06|  2003-01-01 00:31:38|              1|         4.21|         1|                 N|         263|           7|           2|       19.0|  0.5|    0.5|       0.0|         0.0|                  0.3|        22.8|                 2.5|        0.0|\n",
            "|       2| 2008-12-31 23:03:33|  2009-01-01 18:07:00|              1|        14.07|         2|                 N|         130|         114|           1|       52.0|  0.0|    0.5|     12.62|        6.55|                  0.3|       75.72|                 2.5|       1.25|\n",
            "|       2| 2009-01-01 04:32:00|  2009-01-01 22:33:13|              1|         1.98|         1|                 N|         239|         246|           1|        8.5|  0.5|    0.5|       1.0|         0.0|                  0.3|        13.3|                 2.5|        0.0|\n",
            "|       2| 2009-01-01 02:37:56|  2009-01-01 18:32:11|              1|         1.54|         1|                 N|         263|         237|           1|        8.5|  1.0|    0.5|      1.92|         0.0|                  0.3|       14.72|                 2.5|        0.0|\n",
            "|       2| 2008-12-31 23:06:01|  2009-01-01 22:30:46|              1|         1.05|         1|                 N|         142|         239|           1|        5.5|  0.5|    0.5|      1.86|         0.0|                  0.3|       11.16|                 2.5|        0.0|\n",
            "+--------+--------------------+---------------------+---------------+-------------+----------+------------------+------------+------------+------------+-----------+-----+-------+----------+------------+---------------------+------------+--------------------+-----------+\n",
            "only showing top 20 rows\n",
            "\n"
          ]
        }
      ],
      "source": [
        "from pyspark.sql.functions import year #analizando se há datas em anos que não são 2022\n",
        "anosErrados = dfPrincipal.filter((year(dfPrincipal[\"tpep_pickup_datetime\"])!= 2022)|(year(dfPrincipal[\"tpep_dropoff_datetime\"])!= 2022))\n",
        "print(\"Linhas com datas em anos errados: \", anosErrados.count())\n",
        "anosErrados.show()"
      ]
    },
    {
      "cell_type": "code",
      "execution_count": null,
      "metadata": {
        "colab": {
          "base_uri": "https://localhost:8080/"
        },
        "id": "ZIDH3ocdgieu",
        "outputId": "98923e88-1e49-40bd-89c5-55b8cfcbc2e4"
      },
      "outputs": [
        {
          "name": "stdout",
          "output_type": "stream",
          "text": [
            "Viagens feitas na virada do ano:  626\n",
            "Viagens totais: 39656098\n"
          ]
        }
      ],
      "source": [
        "from pyspark.sql.functions import col, dayofmonth, month\n",
        "viradasDeAno = dfPrincipal.filter((dayofmonth(col(\"tpep_pickup_datetime\")) == 31) & (month(col(\"tpep_pickup_datetime\")) == 12) & (dayofmonth(col(\"tpep_dropoff_datetime\")) == 1) & (month(col(\"tpep_dropoff_datetime\")) == 1))#Filtra quando uma viagem é feita na virada do ano\n",
        "print(\"Viagens feitas na virada do ano: \",viradasDeAno.count())\n",
        "print(\"Viagens totais:\", dfPrincipal.count())"
      ]
    },
    {
      "cell_type": "markdown",
      "metadata": {
        "id": "eUdecfJ4hq8s"
      },
      "source": [
        "Como pode ser visto na contagem acima, as linhas de viagens ocorridas na virada de ano não são nem 0,01% do total de linhas da tabela. Então, optamos por remover essas linhas, pois as viagens com datas corretas e erradas não teriam impacto na análise final dos dados. Além disso, não é possível corrigir as datas de anos errados, pois não temos como saber se elas se referem à virada de 2021 para 2022 ou 2022 para 2023.\n",
        "\n",
        "Quanto as demais datas em anos errados, decidimos passá-las para 2022, por estarem nas tabelas referentes ao ano de 2022.\n"
      ]
    },
    {
      "cell_type": "code",
      "execution_count": null,
      "metadata": {
        "colab": {
          "base_uri": "https://localhost:8080/"
        },
        "id": "XMEx-3W2kmrU",
        "outputId": "027219ee-32d4-4051-8d13-9b1778faad48"
      },
      "outputs": [
        {
          "name": "stdout",
          "output_type": "stream",
          "text": [
            "+--------+--------------------+---------------------+---------------+-------------+----------+------------------+------------+------------+------------+-----------+-----+-------+----------+------------+---------------------+------------+--------------------+-----------+\n",
            "|VendorID|tpep_pickup_datetime|tpep_dropoff_datetime|passenger_count|trip_distance|RatecodeID|store_and_fwd_flag|PULocationID|DOLocationID|payment_type|fare_amount|extra|mta_tax|tip_amount|tolls_amount|improvement_surcharge|total_amount|congestion_surcharge|airport_fee|\n",
            "+--------+--------------------+---------------------+---------------+-------------+----------+------------------+------------+------------+------------+-----------+-----+-------+----------+------------+---------------------+------------+--------------------+-----------+\n",
            "+--------+--------------------+---------------------+---------------+-------------+----------+------------------+------------+------------+------------+-----------+-----+-------+----------+------------+---------------------+------------+--------------------+-----------+\n",
            "\n"
          ]
        }
      ],
      "source": [
        "dfPrincipal = dfPrincipal.subtract(viradasDeAno)#remove as linhas de virada do dataframe\n",
        "dfPrincipal.filter((dayofmonth(col(\"tpep_pickup_datetime\")) == 31) & (month(col(\"tpep_pickup_datetime\")) == 12) & (dayofmonth(col(\"tpep_dropoff_datetime\")) == 1) & (month(col(\"tpep_dropoff_datetime\")) == 1)).show(20)#verifica se realmente foram removidas"
      ]
    },
    {
      "cell_type": "code",
      "execution_count": null,
      "metadata": {
        "colab": {
          "base_uri": "https://localhost:8080/"
        },
        "id": "DFtEetIglyNW",
        "outputId": "22380ca0-c8eb-445b-f3de-3a65a28123a1"
      },
      "outputs": [
        {
          "name": "stdout",
          "output_type": "stream",
          "text": [
            "+--------+--------------------+---------------------+---------------+-------------+----------+------------------+------------+------------+------------+-----------+-----+-------+----------+------------+---------------------+------------+--------------------+-----------+\n",
            "|VendorID|tpep_pickup_datetime|tpep_dropoff_datetime|passenger_count|trip_distance|RatecodeID|store_and_fwd_flag|PULocationID|DOLocationID|payment_type|fare_amount|extra|mta_tax|tip_amount|tolls_amount|improvement_surcharge|total_amount|congestion_surcharge|airport_fee|\n",
            "+--------+--------------------+---------------------+---------------+-------------+----------+------------------+------------+------------+------------+-----------+-----+-------+----------+------------+---------------------+------------+--------------------+-----------+\n",
            "+--------+--------------------+---------------------+---------------+-------------+----------+------------------+------------+------------+------------+-----------+-----+-------+----------+------------+---------------------+------------+--------------------+-----------+\n",
            "\n"
          ]
        }
      ],
      "source": [
        "from pyspark.sql.functions import date_format, concat, lit, to_timestamp\n",
        "dfPrincipal = dfPrincipal.withColumn(\"aux_pickup2022\",  #criação de uma coluna auxiliar para pickup e dropoff que recebe todas as informações de mês, dia, hora, minuto e segundo, e acrescenta o ano de 2022\n",
        "    concat(lit(\"2022-\"), date_format(col(\"tpep_pickup_datetime\"), \"MM-dd HH:mm:ss\"))\n",
        "    ).withColumn(\"aux_dropoff_2022\",\n",
        "             concat(lit(\"2022-\"), date_format(col(\"tpep_dropoff_datetime\"), \"MM-dd HH:mm:ss\")))\n",
        "\n",
        "dfPrincipal = dfPrincipal.withColumn(\"aux_pickup2022\",to_timestamp(col(\"aux_pickup2022\"))#Conversão das colunas auxiliares para timestamp\n",
        ").withColumn(\"aux_dropoff_2022\", to_timestamp(col(\"aux_dropoff_2022\")))\n",
        "\n",
        "# Atualização  dos valores das colunas originais\n",
        "dfPrincipal = dfPrincipal.withColumn(\"tpep_pickup_datetime\", col(\"aux_pickup2022\"))\n",
        "dfPrincipal = dfPrincipal.withColumn(\"tpep_dropoff_datetime\", col(\"aux_dropoff_2022\"))\n",
        "\n",
        "# Remoção das colunas temporárias\n",
        "dfPrincipal = dfPrincipal.drop(\"aux_pickup2022\", \"aux_dropoff_2022\")\n",
        "\n",
        "dfPrincipal.filter((year(dfPrincipal[\"tpep_pickup_datetime\"])!= 2022)|(year(dfPrincipal[\"tpep_dropoff_datetime\"])!= 2022)).show(20)  #verificando se ainda há anos diferentes de 2022"
      ]
    },
    {
      "cell_type": "markdown",
      "metadata": {
        "id": "kKjsyM_zpXti"
      },
      "source": [
        "###Corrigindo os Métodos de Pagamento\n",
        "Para os métodos de pagamento, temos dinheiro, cartão, sem custo, em disputa, desconhecido e corrida cancelada.\n",
        "* Credit Card: A coluna de gorjeta, segundo o dicionário de dados, é preenchida automaticamente para gorjetas no cartão de crédito e não há gorjetas em dinheiro incluídas na coluna. Sendo assim, transformamos casos na tabela onde haja um valor de gorjeta para cartão de crédito cartão de crédito. Mas também consideramos que viagens pagas no cartão não tem gorjetas obrigatórias, então é possível encontrar tip_amount = 0 quando o tipo de pagamento é cartão.\n",
        "* Voided Trips: Consideramos como corrida cancelada toda a corrida que era duplicada na tabela(verificando por meio do datetime de pickup e dropoff), mas que em uma linha seus valores eram positivos e na outra eram negativos(verificado por meio do total_amount).\n",
        "* No Charge: Corridas sem cobrança não são pagas pelo passageiro, então o motorista não recebe o dinheiro imediatamente, podendo levar algum tempo ou recebendo na próxima corrida. Por causa disso, consideramos como canceladas e trocamos todos os payment_type de 3 para 6\n",
        "* Dispute: Corridas em disputa não foram pagas ao taxista, então nós consideramos como canceladas e trocamos todos os payment_type de 4 para 6.\n",
        "* Unknow: Podemos apenas alterar os pagamentos das corridas que tenham gorjeta, passando a ser cartão. Quanto as outras linhas, não é possível transformar seu método de pagamento, pois não conseguimos saber se é dinheiro(ganho para o motorista) ou Sem Cobrança ou Disputa(custo para o motorista)\n",
        "* Cash: Quando o método é dinheiro, não há outra coluna que possa o identificar além do payment_type, então optamos por manter apenas os valores que já estivessem nele, após todas as transformações dos outros métodos de pagamento.\n",
        "\n",
        "Valores de payment_type que não são nenhum dos 6 que estão no dicionário: caso tenham gorjeta serão tratados automaticamente por causa do tratamento referente ao cartão de crédito. As demais linhas serão passadas para unknow, pois não é possível definir se são dinheiro, sem cobrança ou em disputa.\n"
      ]
    },
    {
      "cell_type": "code",
      "execution_count": null,
      "metadata": {
        "id": "e83f29S162hF"
      },
      "outputs": [],
      "source": [
        "from pyspark.sql import functions as F\n",
        "pagamento = dfPrincipal #Primeiro copiaremos o dataframe para poder trabalhar nessa parte e depois atualizaremos o principal\n",
        "pagamento = pagamento.withColumn(\"trip_id\", F.monotonically_increasing_id())#Id para facilitar o etl dos pagamentos"
      ]
    },
    {
      "cell_type": "code",
      "execution_count": null,
      "metadata": {
        "colab": {
          "base_uri": "https://localhost:8080/"
        },
        "id": "8ltirFStmha9",
        "outputId": "15d09530-c31e-480e-a6a2-bbe121d3a358"
      },
      "outputs": [
        {
          "name": "stdout",
          "output_type": "stream",
          "text": [
            "1368296\n"
          ]
        }
      ],
      "source": [
        "print(pagamento.filter((pagamento.payment_type<1)|(pagamento.payment_type>6)).count()) #verificando linhas com métodos de pagamento inexistentes"
      ]
    },
    {
      "cell_type": "markdown",
      "metadata": {
        "id": "dlyborDKfKge"
      },
      "source": [
        "Tratando o pagamento em cartão de crédito:"
      ]
    },
    {
      "cell_type": "code",
      "execution_count": null,
      "metadata": {
        "colab": {
          "base_uri": "https://localhost:8080/"
        },
        "id": "n9AAlFnI9kuI",
        "outputId": "2187f6c1-1aec-4c04-e6be-1c7b5a848c81"
      },
      "outputs": [
        {
          "name": "stdout",
          "output_type": "stream",
          "text": [
            "+--------+--------------------+---------------------+---------------+-------------+----------+------------------+------------+------------+------------+-----------+-----+-------+----------+------------+---------------------+------------+--------------------+-----------+-------+\n",
            "|VendorID|tpep_pickup_datetime|tpep_dropoff_datetime|passenger_count|trip_distance|RatecodeID|store_and_fwd_flag|PULocationID|DOLocationID|payment_type|fare_amount|extra|mta_tax|tip_amount|tolls_amount|improvement_surcharge|total_amount|congestion_surcharge|airport_fee|trip_id|\n",
            "+--------+--------------------+---------------------+---------------+-------------+----------+------------------+------------+------------+------------+-----------+-----+-------+----------+------------+---------------------+------------+--------------------+-----------+-------+\n",
            "+--------+--------------------+---------------------+---------------+-------------+----------+------------------+------------+------------+------------+-----------+-----+-------+----------+------------+---------------------+------------+--------------------+-----------+-------+\n",
            "\n"
          ]
        }
      ],
      "source": [
        "pagamento = pagamento.withColumn(\"payment_type\",\n",
        "    when((col(\"tip_amount\") != 0) & (col(\"payment_type\") != 1), 1)  #Quando houver tip amount e o método de pagamento não for cartão, deveremos passar para cartão de crédito.\n",
        "    .otherwise(col(\"payment_type\"))\n",
        ")\n",
        "pagamento.filter((col(\"tip_amount\") != 0) & (col(\"payment_type\") != 1)).show(20)"
      ]
    },
    {
      "cell_type": "code",
      "execution_count": null,
      "metadata": {
        "collapsed": true,
        "id": "Zg6HskJj3yW4"
      },
      "outputs": [],
      "source": [
        "from pyspark.sql.functions import abs\n",
        "negativo = pagamento.filter(pagamento.total_amount<0) #primeiramente, precisamos separar todas as linhas que tem o total_amount como negativo\n",
        "\n",
        "#em seguida, faremos um join, responsável por unir o negativo com o pagamento.\n",
        "duplicadas = pagamento.alias('p').join(\n",
        "    negativo.alias('n'),\n",
        "    [\n",
        "        col(\"p.total_amount\") == -col(\"n.total_amount\"),\n",
        "        col(\"p.tpep_pickup_datetime\") == col(\"n.tpep_pickup_datetime\"),\n",
        "        col(\"p.tpep_dropoff_datetime\") == col(\"n.tpep_dropoff_datetime\")\n",
        "    ],\n",
        "    \"inner\"\n",
        ").select(col(\"p.*\"),col(\"n.trip_id\").alias(\"e_cancelada\")).withColumn(\"payment_type\", lit(6)) #esse join junta as linhas positivas com suas duplicatas negativas, nas colunas das tuplas positivas, é adicionado o id da tupla negativa referente.\n",
        "#para o positivo e o negativo, seu payment type é alterado para 6(voided_trips)\n",
        "\n",
        "semDuplicata = pagamento.join(duplicadas.select(\"e_cancelada\").distinct(), #selecionamos apenas a coluna e_cancelada e removemos duplicatas com o distinct\n",
        "    pagamento.trip_id == duplicadas.e_cancelada,   #fazemos um left_anti, que remove as linhas de df que tem duplicata, deixando apenas as linhas que originalmente já não teriam duplicatas\n",
        "    \"left_anti\")\n",
        "\n",
        "negativoDistinto = semDuplicata.filter(semDuplicata.total_amount < 0) #os negativos que não eram linhas duplicadas.\n",
        "negativoDistinto = negativoDistinto.withColumn(\"total_amount\", abs(col(\"total_amount\"))).withColumn(\"payment_type\", lit(6))#Passamos os valores negativos para positivos e passamos o pagamento para viagem cancelada\n",
        "positivoDistinto = semDuplicata.filter(col(\"total_amount\") > 0) #os positivos que não eram linhas duplicadas."
      ]
    },
    {
      "cell_type": "code",
      "execution_count": null,
      "metadata": {
        "colab": {
          "base_uri": "https://localhost:8080/"
        },
        "id": "s8vpz53hnxM_",
        "outputId": "7173271b-b5f3-4a6a-b8a5-5484ea76dd77"
      },
      "outputs": [
        {
          "name": "stdout",
          "output_type": "stream",
          "text": [
            "255707\n"
          ]
        }
      ],
      "source": [
        "pagamento = positivoDistinto.unionByName(negativoDistinto).unionByName(duplicadas.select(pagamento.columns))#unindo todos os datasets separados anteriormente de volta a um só\n",
        "print(pagamento.filter(pagamento.payment_type==6).count())\n",
        "pagamento = pagamento.drop(\"trip_id\")#removendo o id adicionado ao início do etl de payment_type"
      ]
    },
    {
      "cell_type": "code",
      "execution_count": null,
      "metadata": {
        "id": "h7u2AttkJycH"
      },
      "outputs": [],
      "source": [
        "pagamento = pagamento.withColumn(\"payment_type\",\n",
        "    when((col(\"payment_type\") == 3) | (col(\"payment_type\") == 4), 6).otherwise(col(\"payment_type\"))) #como estamos considerando no charge e dispute como corrida cancelada, passaremos as linhas restantes para payment_type = 6"
      ]
    },
    {
      "cell_type": "code",
      "execution_count": null,
      "metadata": {
        "id": "L2CPzcuKjXiw"
      },
      "outputs": [],
      "source": [
        "pagamento = pagamento.withColumn(\"payment_type\",\n",
        "    when((col(\"payment_type\") < 1) | (col(\"payment_type\") > 6), 5).otherwise(col(\"payment_type\")))  #passando valores que não se encontram no dicionário para unknow, pois fora as corridas canceladas e cartão de crédito, não é possível descobrir os outros métodos de pagamento."
      ]
    },
    {
      "cell_type": "code",
      "execution_count": null,
      "metadata": {
        "id": "C4pDKKmY9MWx"
      },
      "outputs": [],
      "source": [
        "pagamento = pagamento.withColumn(\"payment_type\",\n",
        "    when((col(\"trip_distance\") == 0) & (col(\"payment_type\") != 6), 6).otherwise(F.col(\"payment_type\")))  #se a distância da viagem for 0 e a corrida já não for uma corrida cancelada, passamos ela para corrida cancelada"
      ]
    },
    {
      "cell_type": "code",
      "execution_count": null,
      "metadata": {
        "id": "7EEzvBM3AOtp"
      },
      "outputs": [],
      "source": [
        "#passando as colunas de valores todas para positivo:\n",
        "for valColunas in [\"fare_amount\", \"extra\", \"mta_tax\", \"tip_amount\", \"tolls_amount\",\"improvement_surcharge\", \"total_amount\",\"congestion_surcharge\", \"airport_fee\"]:\n",
        "    pagamento = pagamento.withColumn(valColunas, abs(col(valColunas)))"
      ]
    },
    {
      "cell_type": "code",
      "execution_count": null,
      "metadata": {
        "id": "Pbi5cB99-XQB"
      },
      "outputs": [],
      "source": [
        "dfPrincipal = pagamento #passamos os valores limpos de volta para o dataframe principal"
      ]
    },
    {
      "cell_type": "code",
      "execution_count": null,
      "metadata": {
        "colab": {
          "base_uri": "https://localhost:8080/"
        },
        "id": "iP6CeBvATYOB",
        "outputId": "e51c9576-2adc-4f26-e3e9-a5d944fdc95f"
      },
      "outputs": [
        {
          "name": "stdout",
          "output_type": "stream",
          "text": [
            "986538\n"
          ]
        }
      ],
      "source": [
        "print(dfPrincipal.filter(dfPrincipal.payment_type == 6).count()) #verificando a quantidade de viagens canceladas"
      ]
    },
    {
      "cell_type": "code",
      "execution_count": null,
      "metadata": {
        "colab": {
          "base_uri": "https://localhost:8080/"
        },
        "id": "vzBH7gTydKOV",
        "outputId": "b4a73bd4-df99-4852-b279-a7246394f1f1"
      },
      "outputs": [
        {
          "name": "stdout",
          "output_type": "stream",
          "text": [
            "0\n"
          ]
        }
      ],
      "source": [
        "print(dfPrincipal.filter((dfPrincipal.payment_type <1) | (dfPrincipal.payment_type > 6)).count()) #verificando a quantidade de viagens com métodos de pagamento inexistentes"
      ]
    },
    {
      "cell_type": "code",
      "execution_count": null,
      "metadata": {
        "colab": {
          "base_uri": "https://localhost:8080/"
        },
        "id": "i-aCqWPio-k9",
        "outputId": "368b64c4-a53e-462a-e568-e7207398d49e"
      },
      "outputs": [
        {
          "name": "stdout",
          "output_type": "stream",
          "text": [
            "+--------+--------------------+---------------------+---------------+-------------+----------+------------------+------------+------------+------------+-----------+-----+-------+----------+------------+---------------------+------------+--------------------+-----------+\n",
            "|VendorID|tpep_pickup_datetime|tpep_dropoff_datetime|passenger_count|trip_distance|RatecodeID|store_and_fwd_flag|PULocationID|DOLocationID|payment_type|fare_amount|extra|mta_tax|tip_amount|tolls_amount|improvement_surcharge|total_amount|congestion_surcharge|airport_fee|\n",
            "+--------+--------------------+---------------------+---------------+-------------+----------+------------------+------------+------------+------------+-----------+-----+-------+----------+------------+---------------------+------------+--------------------+-----------+\n",
            "+--------+--------------------+---------------------+---------------+-------------+----------+------------------+------------+------------+------------+-----------+-----+-------+----------+------------+---------------------+------------+--------------------+-----------+\n",
            "\n"
          ]
        }
      ],
      "source": [
        "dfPrincipal.filter(year(col(\"tpep_dropoff_datetime\"))!= 2022).show() #verificando se todas as linhas estão em 2022"
      ]
    },
    {
      "cell_type": "markdown",
      "metadata": {
        "id": "CW1Xsmd_fstp"
      },
      "source": [
        "### Distâncias"
      ]
    },
    {
      "cell_type": "code",
      "execution_count": null,
      "metadata": {
        "colab": {
          "base_uri": "https://localhost:8080/"
        },
        "id": "n3G6gFlnZVT_",
        "outputId": "36d166b1-912e-4356-a6b5-5f17d55ddc43"
      },
      "outputs": [
        {
          "name": "stdout",
          "output_type": "stream",
          "text": [
            "Linhas totais da tabela:  39649170\n",
            "Linhas com distância maior que 100 milhas:  1529\n"
          ]
        }
      ],
      "source": [
        "from pyspark.sql.functions import expr\n",
        "print(\"Linhas totais da tabela: \",dfPrincipal.count())\n",
        "print(\"Linhas com distância maior que 100 milhas: \",dfPrincipal.filter(dfPrincipal.trip_distance > 100).count())"
      ]
    },
    {
      "cell_type": "markdown",
      "metadata": {
        "id": "Xrr2QF0ubVeU"
      },
      "source": [
        "O número de linhas com distâncias maiores que 100 milhas são aproximadamente 0,003% do total de linhas da tabela, então optamos por desconsiderá-las, já que como a tabela consiste apenas em viagens de taxi dentro da própria cidade de Nova York, distâncias longas assim são altamente improváveis."
      ]
    },
    {
      "cell_type": "code",
      "execution_count": null,
      "metadata": {
        "id": "HQqoNm__fsCr"
      },
      "outputs": [],
      "source": [
        "dfPrincipal = dfPrincipal.filter(dfPrincipal.trip_distance <= 100)"
      ]
    },
    {
      "cell_type": "markdown",
      "metadata": {
        "id": "9yJYVFpJ-gR1"
      },
      "source": [
        "#Consultas\n",
        "Para as consultas, escolhemos o item 2, que contém:\n",
        "- Qual o ganho médio por milha por mês por cada taxista durante todo o ano de 2022?\n",
        "- Qual a taxa de corrida canceladas por mês para os taxistas que possuem o ganho médio por milha superior a\n",
        "média geral para o ano de 2022?\n",
        "- Qual o ganho médio para os top-10 taxistas que mais rodaram por mês durante o ano de 2022?\n",
        "- Suponha que incida uma taxa de 2% sobre cartão de\n",
        "crédito. Refaça as três análises anteriores.\n",
        "\n",
        "Como não há um identificador de motoristas na tabela, consideraremos os Vendor_id como os motoristas.\n",
        "Apesar de no dicionário ter apenas 2 Vendor_id, mantivemos os outros como o professor disse para fazer, já que não há mais o identificador de motoristas para a realização das consultas.\n",
        "\n",
        "Não é necessária a condição do ano ser 2022 para as nossas consultas, pois todos os dados já foram limpos e transformados para esse ano."
      ]
    },
    {
      "cell_type": "code",
      "execution_count": null,
      "metadata": {
        "id": "GNuVHv9AZzym"
      },
      "outputs": [],
      "source": [
        "#Primeiro precisaremos transformar nosso dataframe Principal em uma view\n",
        "dfPrincipal.createTempView(\"yellowTaxi2022view\")"
      ]
    },
    {
      "cell_type": "markdown",
      "metadata": {
        "id": "rdxlitjRvEgf"
      },
      "source": [
        "### Consulta 1: Qual o ganho médio por milha por mês por cada taxista durante todo o ano de 2022?"
      ]
    },
    {
      "cell_type": "code",
      "execution_count": null,
      "metadata": {
        "colab": {
          "base_uri": "https://localhost:8080/"
        },
        "id": "eONrfa-IYhT6",
        "outputId": "f1ccb041-1e42-4c78-cea5-5de863c592fc"
      },
      "outputs": [
        {
          "name": "stdout",
          "output_type": "stream",
          "text": [
            "+--------+---+---------------+\n",
            "|VendorId|mes|Ganho_por_milha|\n",
            "+--------+---+---------------+\n",
            "|       1|  1|           5.66|\n",
            "|       1|  2|           5.87|\n",
            "|       1|  3|           5.86|\n",
            "|       1|  4|           5.85|\n",
            "|       1|  5|           5.92|\n",
            "|       1|  6|           5.94|\n",
            "|       1|  7|           5.78|\n",
            "|       1|  8|           5.75|\n",
            "|       1|  9|           6.11|\n",
            "|       1| 10|           6.11|\n",
            "|       1| 11|           6.15|\n",
            "|       1| 12|           6.87|\n",
            "|       2|  1|           8.39|\n",
            "|       2|  2|           8.57|\n",
            "|       2|  3|           9.18|\n",
            "|       2|  4|           9.77|\n",
            "|       2|  5|          10.37|\n",
            "|       2|  6|           10.5|\n",
            "|       2|  7|           9.91|\n",
            "|       2|  8|           10.2|\n",
            "|       2|  9|          11.04|\n",
            "|       2| 10|          10.89|\n",
            "|       2| 11|          10.67|\n",
            "|       2| 12|          11.76|\n",
            "|       5|  1|           4.11|\n",
            "|       5|  2|           3.47|\n",
            "|       5|  3|           6.39|\n",
            "|       5|  4|           5.45|\n",
            "|       5|  5|           5.07|\n",
            "|       5|  6|            5.9|\n",
            "|       5|  7|           5.78|\n",
            "|       5|  8|           4.54|\n",
            "|       5|  9|            3.7|\n",
            "+--------+---+---------------+\n",
            "\n"
          ]
        }
      ],
      "source": [
        "#Qual o ganho médio por milha por mês por cada taxista durante todo o ano de 2022?\n",
        "consulta1 = sc.sql(\"Select VendorId, month(tpep_dropoff_datetime) as mes, round(avg(fare_amount/trip_distance), 2) as Ganho_por_milha \\\n",
        "from yellowTaxi2022view where payment_type in (1,2) \\\n",
        "group by VendorId, mes order by VendorID, mes\")\n",
        "consulta1.show(50)"
      ]
    },
    {
      "cell_type": "markdown",
      "metadata": {
        "id": "Zi91rQfD2qv2"
      },
      "source": [
        "A única coluna dos valores da corrida que está diretamente relacionada à distância da corrida é a fare_amount, então consideramos apenas ela para o cálculo do ganho.\n",
        "Dividimos o fare_amount pela distância para descobrir o ganho médio por milha. Esse ganho médio está sendo agrupado por vendedor e mês.\n",
        "Foi preciso fazer subquery pois o spark não suportava fazer o round dentro do avg."
      ]
    },
    {
      "cell_type": "markdown",
      "metadata": {
        "id": "Qb0rTuIv7ly1"
      },
      "source": [
        "### Consulta 2: Qual a taxa de corrida canceladas por mês para os taxistas que possuem o ganho médio por milha superior a média geral para o ano de 2022?\n",
        "\n",
        "Para essa consulta, consideramos que o ganho médio a ser considerado, do taxista é anual assim como a média geral, pois a consulta foi escrita de maneira ambígua.\n",
        "\n",
        "Assim como na consulta anterior, estaremos calculando o ganho por milha utilizando o fare_amount dividido pela distância, pois é a única coluna de valor recebido que é relacionada a distância da corrida."
      ]
    },
    {
      "cell_type": "code",
      "execution_count": null,
      "metadata": {
        "colab": {
          "base_uri": "https://localhost:8080/"
        },
        "id": "oaFvOhzBgdb8",
        "outputId": "b9b8eb4b-b07d-409d-eb09-1c4aac42596f"
      },
      "outputs": [
        {
          "name": "stdout",
          "output_type": "stream",
          "text": [
            "+--------+---+------------------------+\n",
            "|VendorID|mes|Taxa_corridas_canceladas|\n",
            "+--------+---+------------------------+\n",
            "|       2|  1|                    1.56|\n",
            "|       2|  2|                    1.52|\n",
            "|       2|  3|                     1.6|\n",
            "|       2|  4|                    1.59|\n",
            "|       2|  5|                    1.83|\n",
            "|       2|  6|                    2.04|\n",
            "|       2|  7|                     2.0|\n",
            "|       2|  8|                    2.09|\n",
            "|       2|  9|                    2.46|\n",
            "|       2| 10|                    2.84|\n",
            "|       2| 11|                    2.78|\n",
            "|       2| 12|                    3.04|\n",
            "+--------+---+------------------------+\n",
            "\n"
          ]
        }
      ],
      "source": [
        "#Qual a taxa de corrida canceladas por mês para os taxistas que possuem o ganho médio por milha superior a média geral para o ano de 2022?\n",
        "consulta2 = sc.sql(\"\"\"\n",
        "with ganhoPorMilha as (\n",
        "    select VendorID, round(avg(fare_amount / trip_distance),2) as mediaGanhoMilha\n",
        "    from yellowTaxi2022view GROUP BY VendorID\n",
        "    ),\n",
        "mediaGeral as (\n",
        "    select avg(mediaGanhoMilha) as ganhoMediaGeral from ganhoPorMilha\n",
        "    ),\n",
        "superaMediaGeral as (\n",
        "    select VendorID from ganhoPorMilha\n",
        "    where mediaGanhoMilha > (select ganhoMediaGeral from mediaGeral)\n",
        "),\n",
        "canceladasPorMes as(\n",
        "    select\n",
        "        VendorID,\n",
        "        count(*) AS canceladas,\n",
        "        month(tpep_dropoff_datetime) as mes\n",
        "    from\n",
        "        yellowTaxi2022view\n",
        "    where\n",
        "        payment_type = 6 and VendorID in (select VendorID from superaMediaGeral)\n",
        "    group by\n",
        "        VendorID,\n",
        "        mes\n",
        "),\n",
        "viagensPorMes as(\n",
        "    select\n",
        "        VendorID,\n",
        "        count(*) AS quantidadeViagens,\n",
        "        month(tpep_dropoff_datetime) as mes\n",
        "    from\n",
        "        yellowTaxi2022view\n",
        "    where\n",
        "       VendorID in (select VendorID from superaMediaGeral)\n",
        "    group by\n",
        "        VendorID,\n",
        "        mes\n",
        ")\n",
        "select cancel.VendorID, cancel.mes, round(((cancel.canceladas * 100)/viagens.quantidadeViagens),2) as Taxa_corridas_canceladas\n",
        "from canceladasPorMes cancel join viagensPorMes viagens\n",
        "on cancel.VendorID = viagens.VendorID and cancel.mes = viagens.mes\n",
        "order by cancel.mes;\"\"\")\n",
        "consulta2.show(50)"
      ]
    },
    {
      "cell_type": "markdown",
      "metadata": {
        "id": "Siq27DdEoBOQ"
      },
      "source": [
        "Para essa consulta, separamos a mesma em diversos selects armazenados para serem usados num select principal.\n",
        "- ganhoPorMilha: faz o cálculo do ganho por milha de cada taxista no ano.\n",
        "- mediaGeral: calcula a média geral de todos os taxistas no ano\n",
        "- superaMediaGeral: verifica se a média do taxista superou a média anual\n",
        "- canceladasPorMes: seleciona as corridas canceladas por mês do taxista que superou a média geral.\n",
        "- viagensPorMes: seleciona as corridas totais por mês do taxista que superou a média geral.\n",
        "\n",
        "Select principal: mostra o taxista, o mês e a taxa de corridas canceladas ao juntar os subquerys de canceladasPorMes e ViagensPorMes."
      ]
    },
    {
      "cell_type": "markdown",
      "metadata": {
        "id": "kkJXozmy1akr"
      },
      "source": [
        "### Consulta 3: Qual o ganho médio para os top-10 taxistas que mais rodaram por mês durante o ano de 2022?"
      ]
    },
    {
      "cell_type": "code",
      "execution_count": null,
      "metadata": {
        "colab": {
          "base_uri": "https://localhost:8080/"
        },
        "id": "S8Dk1t071nns",
        "outputId": "8727a6bb-da1a-498c-8f2e-122b5f02ee82"
      },
      "outputs": [
        {
          "name": "stdout",
          "output_type": "stream",
          "text": [
            "+---+--------+----------+\n",
            "|mes|VendorID|GanhoMedio|\n",
            "+---+--------+----------+\n",
            "|  1|       5|     76.01|\n",
            "|  1|       2|     20.76|\n",
            "|  1|       1|     20.05|\n",
            "|  2|       5|      80.4|\n",
            "|  2|       2|     21.41|\n",
            "|  2|       1|     20.62|\n",
            "|  3|       5|      65.7|\n",
            "|  3|       2|     22.58|\n",
            "|  3|       1|     21.58|\n",
            "|  4|       5|     79.73|\n",
            "|  4|       2|     23.25|\n",
            "|  4|       1|     22.03|\n",
            "|  5|       5|     84.24|\n",
            "|  5|       2|     24.37|\n",
            "|  5|       1|     22.67|\n",
            "|  6|       5|     82.83|\n",
            "|  6|       2|     24.29|\n",
            "|  6|       1|     22.61|\n",
            "|  7|       5|      99.8|\n",
            "|  7|       2|     23.52|\n",
            "|  7|       1|     22.11|\n",
            "|  8|       5|     88.48|\n",
            "|  8|       2|     23.61|\n",
            "|  8|       1|     22.26|\n",
            "|  9|       5|    148.54|\n",
            "|  9|       2|     24.99|\n",
            "|  9|       1|     23.26|\n",
            "| 10|       2|     24.64|\n",
            "| 10|       1|     22.81|\n",
            "| 11|       2|     24.36|\n",
            "| 11|       1|     22.62|\n",
            "| 12|       2|     27.57|\n",
            "| 12|       1|     24.82|\n",
            "+---+--------+----------+\n",
            "\n"
          ]
        }
      ],
      "source": [
        "#Qual o ganho médio para os top-10 taxistas que mais rodaram por mês durante o ano de 2022?\n",
        "consulta3 = sc.sql(\"\"\"\n",
        "with top10 as(\n",
        "  select VendorId, mes, somaDistancia\n",
        "  from(select VendorID, sum(trip_distance) as somaDistancia, month(tpep_dropoff_datetime) as mes,\n",
        "    row_number() over (partition by month(tpep_dropoff_datetime) order by sum(trip_distance) desc) as ranking\n",
        "     from yellowTaxi2022view\n",
        "     where payment_type in (1,2)\n",
        "    group by VendorID, mes)\n",
        "  where ranking <= 10\n",
        ")\n",
        "select top10.mes, top10.VendorID, round(avg(ytview.total_amount - ytview.tolls_amount - ytview.MTA_tax + ytview.tip_amount),2) as GanhoMedio\n",
        "from top10 join yellowTaxi2022view ytview\n",
        "on top10.VendorID = ytview.VendorID and month(ytview.tpep_dropoff_datetime) = top10.mes\n",
        "where ytview.payment_type in (1, 2)\n",
        "group by top10.mes, top10.VendorID\n",
        "order by top10.mes, ganhoMedio desc\n",
        "\"\"\")\n",
        "consulta3.show(50)"
      ]
    },
    {
      "cell_type": "markdown",
      "metadata": {
        "id": "E9UWuYGr-7h9"
      },
      "source": [
        "Para essa consulta, primeiro fizemos o top 10 dos taxistas que mais rodaram por mês em uma subquery. Foi preciso utilizar o ROW NUMBER() para poder ranquear os taxistas. Após o ranking, selecionamos apenas os que fossem <= a 10, ou seja, o top 10.\n",
        "\n",
        "A consulta principal pega os taxistas e meses vindos da subquery e o ganho médio deles, que consideramos como o total da corrida menos o que foi gasto em pedágio e imposto(MTA_tax), mais a gorjeta recebida, que não é contabilizada no total_amount.\n",
        "\n",
        "A consulta mostra os resultados ordenados por mês e do maior ao menor ganho medio do top 10."
      ]
    },
    {
      "cell_type": "markdown",
      "metadata": {
        "id": "U_TG-CHSB2DD"
      },
      "source": [
        "### Taxa de 2% para cartão de crédito\n",
        "\n",
        "Agora precisamos refazer as 3 consultas anteriores para que viagens pagas no cartão de crédito tenham uma taxa de 2% em seu valor.\n",
        "Supondo que o passageiro pague o 2% no total da viagem, isso significa que todas as colunas que compõe o total_amount também recebem mais 2%.\n",
        "\n",
        "\n",
        "tip_amount não faz parte da contagem do total, mas estamos incluindo os 2% pois ela só pode ser paga no cartão."
      ]
    },
    {
      "cell_type": "code",
      "execution_count": null,
      "metadata": {
        "id": "ef6sI66GCKuN"
      },
      "outputs": [],
      "source": [
        "dfTaxa2 = dfPrincipal.withColumn('fare_amount', when(col('payment_type') == 1, col('fare_amount') * 1.02).otherwise(col('fare_amount'))\n",
        ").withColumn('extra', when(col('payment_type') == 1, col('extra') * 1.02).otherwise(col('extra'))\n",
        ").withColumn('MTA_tax', when(col('payment_type') == 1, col('MTA_tax') * 1.02).otherwise(col('MTA_tax'))\n",
        ").withColumn('improvement_surcharge', when(col('payment_type') == 1, col('improvement_surcharge') * 1.02).otherwise(col('improvement_surcharge'))\n",
        ").withColumn('tip_amount', when(col('payment_type') == 1, col('tip_amount') * 1.02).otherwise(col('tip_amount'))\n",
        ").withColumn('tolls_amount', when(col('payment_type') == 1, col('tolls_amount') * 1.02).otherwise(col('tolls_amount'))\n",
        ").withColumn('total_amount', when(col('payment_type') == 1, col('total_amount') * 1.02).otherwise(col('total_amount'))\n",
        ").withColumn('congestion_surcharge', when(col('payment_type') == 1, col('congestion_surcharge') * 1.02).otherwise(col('congestion_surcharge'))\n",
        ").withColumn('airport_fee', when(col('payment_type') == 1, col('airport_fee') * 1.02).otherwise(col('airport_fee'))\n",
        ")"
      ]
    },
    {
      "cell_type": "code",
      "execution_count": null,
      "metadata": {
        "id": "gr1uAf8VHZSF"
      },
      "outputs": [],
      "source": [
        "dfTaxa2.createTempView(\"taxa2view\")"
      ]
    },
    {
      "cell_type": "markdown",
      "metadata": {
        "id": "MDX6YQr8Hp62"
      },
      "source": [
        "As consultas se manterão quase iguais, com exceção de que agora a view utilizada é a com taxa de 2% no cartão"
      ]
    },
    {
      "cell_type": "markdown",
      "metadata": {
        "id": "M7TL9dSxHmTk"
      },
      "source": [
        "### Consulta 1: Qual o ganho médio por milha por mês por cada taxista durante todo o ano de 2022?"
      ]
    },
    {
      "cell_type": "code",
      "execution_count": null,
      "metadata": {
        "colab": {
          "base_uri": "https://localhost:8080/"
        },
        "id": "iJniSDiXIB7R",
        "outputId": "58d619a0-228d-439e-d2f9-d248a818ce8f"
      },
      "outputs": [
        {
          "name": "stdout",
          "output_type": "stream",
          "text": [
            "+--------+---+---------------+\n",
            "|VendorId|mes|Ganho_por_milha|\n",
            "+--------+---+---------------+\n",
            "|       1|  1|           5.75|\n",
            "|       1|  2|           5.96|\n",
            "|       1|  3|           5.96|\n",
            "|       1|  4|           5.94|\n",
            "|       1|  5|           6.02|\n",
            "|       1|  6|           6.03|\n",
            "|       1|  7|           5.87|\n",
            "|       1|  8|           5.84|\n",
            "|       1|  9|           6.21|\n",
            "|       1| 10|            6.2|\n",
            "|       1| 11|           6.25|\n",
            "|       1| 12|           6.98|\n",
            "|       2|  1|            8.5|\n",
            "|       2|  2|           8.69|\n",
            "|       2|  3|           9.31|\n",
            "|       2|  4|           9.91|\n",
            "|       2|  5|          10.52|\n",
            "|       2|  6|          10.64|\n",
            "|       2|  7|          10.04|\n",
            "|       2|  8|          10.34|\n",
            "|       2|  9|           11.2|\n",
            "|       2| 10|          11.05|\n",
            "|       2| 11|          10.83|\n",
            "|       2| 12|          11.93|\n",
            "|       5|  1|            4.2|\n",
            "|       5|  2|           3.54|\n",
            "|       5|  3|           6.52|\n",
            "|       5|  4|           5.56|\n",
            "|       5|  5|           5.17|\n",
            "|       5|  6|           6.02|\n",
            "|       5|  7|            5.9|\n",
            "|       5|  8|           4.63|\n",
            "|       5|  9|           3.78|\n",
            "+--------+---+---------------+\n",
            "\n"
          ]
        }
      ],
      "source": [
        "#Qual o ganho médio por milha por mês por cada taxista durante todo o ano de 2022?\n",
        "consulta1 = sc.sql(\"Select VendorId, month(tpep_dropoff_datetime) as mes, round(avg(fare_amount/trip_distance), 2) as Ganho_por_milha \\\n",
        "from taxa2view where payment_type in (1,2) \\\n",
        "group by VendorId, mes order by VendorID, mes\")\n",
        "consulta1.show(50)"
      ]
    },
    {
      "cell_type": "markdown",
      "metadata": {
        "id": "AUJp37NMIK48"
      },
      "source": [
        "### Consulta 2: Qual a taxa de corrida canceladas por mês para os taxistas que possuem o ganho médio por milha superior a média geral para o ano de 2022?"
      ]
    },
    {
      "cell_type": "code",
      "execution_count": null,
      "metadata": {
        "colab": {
          "base_uri": "https://localhost:8080/"
        },
        "id": "neEMQPO7IRn7",
        "outputId": "a8dd4ba0-7486-4307-a38e-fb5dc2cbe7f5"
      },
      "outputs": [
        {
          "name": "stdout",
          "output_type": "stream",
          "text": [
            "+--------+---+------------------------+\n",
            "|VendorID|mes|Taxa_corridas_canceladas|\n",
            "+--------+---+------------------------+\n",
            "|       2|  1|                    1.56|\n",
            "|       2|  2|                    1.52|\n",
            "|       2|  3|                     1.6|\n",
            "|       2|  4|                    1.59|\n",
            "|       2|  5|                    1.83|\n",
            "|       2|  6|                    2.04|\n",
            "|       2|  7|                     2.0|\n",
            "|       2|  8|                    2.09|\n",
            "|       2|  9|                    2.46|\n",
            "|       2| 10|                    2.84|\n",
            "|       2| 11|                    2.78|\n",
            "|       2| 12|                    3.04|\n",
            "+--------+---+------------------------+\n",
            "\n"
          ]
        }
      ],
      "source": [
        "#Qual a taxa de corrida canceladas por mês para os taxistas que possuem o ganho médio por milha superior a média geral para o ano de 2022?\n",
        "consulta2 = sc.sql(\"\"\"\n",
        "with ganhoPorMilha as (\n",
        "    select VendorID, round(avg(fare_amount / trip_distance),2) as mediaGanhoMilha\n",
        "    from taxa2view GROUP BY VendorID\n",
        "    ),\n",
        "mediaGeral as (\n",
        "    select avg(mediaGanhoMilha) as ganhoMediaGeral from ganhoPorMilha\n",
        "    ),\n",
        "superaMediaGeral as (\n",
        "    select VendorID from ganhoPorMilha\n",
        "    where mediaGanhoMilha > (select ganhoMediaGeral from mediaGeral)\n",
        "),\n",
        "canceladasPorMes as(\n",
        "    select\n",
        "        VendorID,\n",
        "        count(*) AS canceladas,\n",
        "        month(tpep_dropoff_datetime) as mes\n",
        "    from\n",
        "        taxa2view\n",
        "    where\n",
        "        payment_type = 6 and VendorID in (select VendorID from superaMediaGeral)\n",
        "    group by\n",
        "        VendorID,\n",
        "        mes\n",
        "),\n",
        "viagensPorMes as(\n",
        "    select\n",
        "        VendorID,\n",
        "        count(*) AS quantidadeViagens,\n",
        "        month(tpep_dropoff_datetime) as mes\n",
        "    from\n",
        "        taxa2view\n",
        "    where\n",
        "       VendorID in (select VendorID from superaMediaGeral)\n",
        "    group by\n",
        "        VendorID,\n",
        "        mes\n",
        ")\n",
        "select cancel.VendorID, cancel.mes, round(((cancel.canceladas * 100)/viagens.quantidadeViagens),2) as Taxa_corridas_canceladas\n",
        "from canceladasPorMes cancel join viagensPorMes viagens\n",
        "on cancel.VendorID = viagens.VendorID and cancel.mes = viagens.mes\n",
        "order by cancel.mes;\"\"\")\n",
        "consulta2.show(50)"
      ]
    },
    {
      "cell_type": "markdown",
      "metadata": {
        "id": "AodczWUtIhw-"
      },
      "source": [
        "### Consulta 3: Qual o ganho médio para os top-10 taxistas que mais rodaram por mês durante o ano de 2022?"
      ]
    },
    {
      "cell_type": "code",
      "execution_count": null,
      "metadata": {
        "colab": {
          "base_uri": "https://localhost:8080/"
        },
        "id": "aPl9YE_JIoOi",
        "outputId": "aa660d13-fafb-4626-fd4d-85b422f05330"
      },
      "outputs": [
        {
          "name": "stdout",
          "output_type": "stream",
          "text": [
            "+---+--------+----------+\n",
            "|mes|VendorID|GanhoMedio|\n",
            "+---+--------+----------+\n",
            "|  1|       5|     77.53|\n",
            "|  1|       2|     21.11|\n",
            "|  1|       1|     20.39|\n",
            "|  2|       5|     82.01|\n",
            "|  2|       2|     21.78|\n",
            "|  2|       1|     20.98|\n",
            "|  3|       5|     67.02|\n",
            "|  3|       2|     22.97|\n",
            "|  3|       1|     21.95|\n",
            "|  4|       5|     81.32|\n",
            "|  4|       2|     23.65|\n",
            "|  4|       1|      22.4|\n",
            "|  5|       5|     85.93|\n",
            "|  5|       2|     24.79|\n",
            "|  5|       1|     23.06|\n",
            "|  6|       5|     84.49|\n",
            "|  6|       2|      24.7|\n",
            "|  6|       1|      23.0|\n",
            "|  7|       5|    101.79|\n",
            "|  7|       2|     23.91|\n",
            "|  7|       1|     22.48|\n",
            "|  8|       5|     90.25|\n",
            "|  8|       2|      24.0|\n",
            "|  8|       1|     22.63|\n",
            "|  9|       5|    151.51|\n",
            "|  9|       2|     25.41|\n",
            "|  9|       1|     23.66|\n",
            "| 10|       2|     25.06|\n",
            "| 10|       1|     23.21|\n",
            "| 11|       2|     24.78|\n",
            "| 11|       1|     23.01|\n",
            "| 12|       2|     28.04|\n",
            "| 12|       1|     25.24|\n",
            "+---+--------+----------+\n",
            "\n"
          ]
        }
      ],
      "source": [
        "#Qual o ganho médio para os top-10 taxistas que mais rodaram por mês durante o ano de 2022?\n",
        "consulta3 = sc.sql(\"\"\"\n",
        "with top10 as(\n",
        "  select VendorId, mes, somaDistancia\n",
        "  from(select VendorID, sum(trip_distance) as somaDistancia, month(tpep_dropoff_datetime) as mes,\n",
        "    row_number() over (partition by month(tpep_dropoff_datetime) order by sum(trip_distance) desc) as ranking\n",
        "     from taxa2view\n",
        "     where payment_type in (1,2)\n",
        "    group by VendorID, mes)\n",
        "  where ranking <= 10\n",
        ")\n",
        "select top10.mes, top10.VendorID, round(avg(ytview.total_amount - ytview.tolls_amount - ytview.MTA_tax + ytview.tip_amount),2) as GanhoMedio\n",
        "from top10 join taxa2view ytview\n",
        "on top10.VendorID = ytview.VendorID and month(ytview.tpep_dropoff_datetime) = top10.mes\n",
        "where ytview.payment_type in (1, 2)\n",
        "group by top10.mes, top10.VendorID\n",
        "order by top10.mes, ganhoMedio desc\n",
        "\"\"\")\n",
        "consulta3.show(50)"
      ]
    }
  ],
  "metadata": {
    "accelerator": "GPU",
    "colab": {
      "gpuType": "L4",
      "machine_shape": "hm",
      "provenance": []
    },
    "kernelspec": {
      "display_name": "Python 3",
      "name": "python3"
    }
  },
  "nbformat": 4,
  "nbformat_minor": 0
}
